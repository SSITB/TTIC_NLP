{
 "cells": [
  {
   "cell_type": "markdown",
   "metadata": {},
   "source": [
    "# Ibrahim Gabr (12144496)"
   ]
  },
  {
   "cell_type": "code",
   "execution_count": 1,
   "metadata": {},
   "outputs": [],
   "source": [
    "%run common_code.py\n",
    "%run perceptron_loss.py"
   ]
  },
  {
   "cell_type": "markdown",
   "metadata": {},
   "source": [
    "# Section 1.1\n",
    "\n",
    "Best Accuracy on DEV is: 0.649 - this occurs on Epoch 2.\n",
    "\n",
    "Best accuracy on DEV TEST is: 0.588 - again, this occurs on Epoch 2 (since accuracy on DEV is highest on epoch 2).\n",
    "\n",
    "`common_code.py` contains conde that is shared between perceptron/hinge loss sections of the assignment.\n",
    "\n",
    "`perceptron_loss.py` contains code that is specific to section 1.1 - the implementation of perceptron loss."
   ]
  },
  {
   "cell_type": "code",
   "execution_count": 3,
   "metadata": {},
   "outputs": [],
   "source": [
    "# Load up the files as a list of sentences.\n",
    "training_data = open(\"sst3/sst3.train\", \"r\").readlines()\n",
    "dev_data = open(\"sst3/sst3.dev\", \"r\").readlines()\n",
    "dev_test_data = open(\"sst3/sst3.devtest\", \"r\").readlines()"
   ]
  },
  {
   "cell_type": "code",
   "execution_count": 4,
   "metadata": {
    "scrolled": true
   },
   "outputs": [
    {
     "name": "stdout",
     "output_type": "stream",
     "text": [
      "---starting epoch 0---\n",
      "Accuracy after 20000 sentences in epoch 0 is : 0.4727272727272727\n",
      "current best DEV accuracy is 0.4727272727272727, previous best was 0\n",
      "Accuracy on Dev test is 0.4301270417422868 in epoch 0 after 20000 sentences\n",
      "Accuracy after 40000 sentences in epoch 0 is : 0.48363636363636364\n",
      "current best DEV accuracy is 0.48363636363636364, previous best was 0.4727272727272727\n",
      "Accuracy on Dev test is 0.426497277676951 in epoch 0 after 40000 sentences\n",
      "Accuracy after 60000 sentences in epoch 0 is : 0.5545454545454546\n",
      "current best DEV accuracy is 0.5545454545454546, previous best was 0.48363636363636364\n",
      "Accuracy on Dev test is 0.47731397459165154 in epoch 0 after 60000 sentences\n",
      "Accuracy after 80000 sentences in epoch 0 is : 0.5490909090909091\n",
      "Accuracy after 100000 sentences in epoch 0 is : 0.5545454545454546\n",
      "Accuracy after 120000 sentences in epoch 0 is : 0.6036363636363636\n",
      "current best DEV accuracy is 0.6036363636363636, previous best was 0.5545454545454546\n",
      "Accuracy on Dev test is 0.5662431941923775 in epoch 0 after 120000 sentences\n",
      "Accuracy at the end of epoch 0 is 0.5854545454545454\n",
      "\n",
      "---starting epoch 1---\n",
      "Accuracy after 20000 sentences in epoch 1 is : 0.5490909090909091\n",
      "Accuracy after 40000 sentences in epoch 1 is : 0.5145454545454545\n",
      "Accuracy after 60000 sentences in epoch 1 is : 0.5490909090909091\n",
      "Accuracy after 80000 sentences in epoch 1 is : 0.5527272727272727\n",
      "Accuracy after 100000 sentences in epoch 1 is : 0.5545454545454546\n",
      "Accuracy after 120000 sentences in epoch 1 is : 0.6145454545454545\n",
      "current best DEV accuracy is 0.6145454545454545, previous best was 0.6036363636363636\n",
      "Accuracy on Dev test is 0.5553539019963702 in epoch 1 after 120000 sentences\n",
      "Accuracy at the end of epoch 1 is 0.6290909090909091\n",
      "current best DEV accuracy is 0.6290909090909091, previous best was 0.6145454545454545\n",
      "Accuracy on DEV TEST is 0.5480943738656987 in epoch 1 after 120789 sentences\n",
      "\n",
      "---starting epoch 2---\n",
      "Accuracy after 20000 sentences in epoch 2 is : 0.5181818181818182\n",
      "Accuracy after 40000 sentences in epoch 2 is : 0.5127272727272727\n",
      "Accuracy after 60000 sentences in epoch 2 is : 0.5636363636363636\n",
      "Accuracy after 80000 sentences in epoch 2 is : 0.5690909090909091\n",
      "Accuracy after 100000 sentences in epoch 2 is : 0.5945454545454546\n",
      "Accuracy after 120000 sentences in epoch 2 is : 0.649090909090909\n",
      "current best DEV accuracy is 0.649090909090909, previous best was 0.6290909090909091\n",
      "Accuracy on Dev test is 0.588021778584392 in epoch 2 after 120000 sentences\n",
      "Accuracy at the end of epoch 2 is 0.5890909090909091\n",
      "\n",
      "---starting epoch 3---\n",
      "Accuracy after 20000 sentences in epoch 3 is : 0.5545454545454546\n",
      "Accuracy after 40000 sentences in epoch 3 is : 0.509090909090909\n",
      "Accuracy after 60000 sentences in epoch 3 is : 0.5672727272727273\n",
      "Accuracy after 80000 sentences in epoch 3 is : 0.5581818181818182\n",
      "Accuracy after 100000 sentences in epoch 3 is : 0.5618181818181818\n",
      "Accuracy after 120000 sentences in epoch 3 is : 0.6363636363636364\n",
      "Accuracy at the end of epoch 3 is 0.610909090909091\n",
      "\n",
      "---starting epoch 4---\n",
      "Accuracy after 20000 sentences in epoch 4 is : 0.5509090909090909\n",
      "Accuracy after 40000 sentences in epoch 4 is : 0.5145454545454545\n",
      "Accuracy after 60000 sentences in epoch 4 is : 0.5254545454545455\n",
      "Accuracy after 80000 sentences in epoch 4 is : 0.5690909090909091\n",
      "Accuracy after 100000 sentences in epoch 4 is : 0.5727272727272728\n",
      "Accuracy after 120000 sentences in epoch 4 is : 0.62\n",
      "Accuracy at the end of epoch 4 is 0.6145454545454545\n",
      "\n",
      "---starting epoch 5---\n",
      "Accuracy after 20000 sentences in epoch 5 is : 0.5\n",
      "Accuracy after 40000 sentences in epoch 5 is : 0.5345454545454545\n",
      "Accuracy after 60000 sentences in epoch 5 is : 0.5781818181818181\n",
      "Accuracy after 80000 sentences in epoch 5 is : 0.5654545454545454\n",
      "Accuracy after 100000 sentences in epoch 5 is : 0.5709090909090909\n",
      "Accuracy after 120000 sentences in epoch 5 is : 0.6127272727272727\n",
      "Accuracy at the end of epoch 5 is 0.6290909090909091\n",
      "\n",
      "---starting epoch 6---\n",
      "Accuracy after 20000 sentences in epoch 6 is : 0.5581818181818182\n",
      "Accuracy after 40000 sentences in epoch 6 is : 0.5236363636363637\n",
      "Accuracy after 60000 sentences in epoch 6 is : 0.58\n",
      "Accuracy after 80000 sentences in epoch 6 is : 0.5763636363636364\n",
      "Accuracy after 100000 sentences in epoch 6 is : 0.5618181818181818\n",
      "Accuracy after 120000 sentences in epoch 6 is : 0.6309090909090909\n",
      "Accuracy at the end of epoch 6 is 0.62\n",
      "\n",
      "---starting epoch 7---\n",
      "Accuracy after 20000 sentences in epoch 7 is : 0.54\n",
      "Accuracy after 40000 sentences in epoch 7 is : 0.5818181818181818\n",
      "Accuracy after 60000 sentences in epoch 7 is : 0.5745454545454546\n",
      "Accuracy after 80000 sentences in epoch 7 is : 0.5618181818181818\n",
      "Accuracy after 100000 sentences in epoch 7 is : 0.5727272727272728\n",
      "Accuracy after 120000 sentences in epoch 7 is : 0.5963636363636363\n",
      "Accuracy at the end of epoch 7 is 0.6036363636363636\n",
      "\n",
      "---starting epoch 8---\n",
      "Accuracy after 20000 sentences in epoch 8 is : 0.48\n",
      "Accuracy after 40000 sentences in epoch 8 is : 0.5472727272727272\n",
      "Accuracy after 60000 sentences in epoch 8 is : 0.5854545454545454\n",
      "Accuracy after 80000 sentences in epoch 8 is : 0.5745454545454546\n",
      "Accuracy after 100000 sentences in epoch 8 is : 0.5636363636363636\n",
      "Accuracy after 120000 sentences in epoch 8 is : 0.5927272727272728\n",
      "Accuracy at the end of epoch 8 is 0.5618181818181818\n",
      "\n",
      "---starting epoch 9---\n",
      "Accuracy after 20000 sentences in epoch 9 is : 0.5127272727272727\n",
      "Accuracy after 40000 sentences in epoch 9 is : 0.5272727272727272\n",
      "Accuracy after 60000 sentences in epoch 9 is : 0.5709090909090909\n",
      "Accuracy after 80000 sentences in epoch 9 is : 0.5981818181818181\n",
      "Accuracy after 100000 sentences in epoch 9 is : 0.5781818181818181\n",
      "Accuracy after 120000 sentences in epoch 9 is : 0.5963636363636363\n",
      "Accuracy at the end of epoch 9 is 0.5818181818181818\n",
      "\n",
      "---starting epoch 10---\n",
      "Accuracy after 20000 sentences in epoch 10 is : 0.52\n",
      "Accuracy after 40000 sentences in epoch 10 is : 0.5545454545454546\n",
      "Accuracy after 60000 sentences in epoch 10 is : 0.5345454545454545\n",
      "Accuracy after 80000 sentences in epoch 10 is : 0.5490909090909091\n",
      "Accuracy after 100000 sentences in epoch 10 is : 0.5909090909090909\n",
      "Accuracy after 120000 sentences in epoch 10 is : 0.5709090909090909\n",
      "Accuracy at the end of epoch 10 is 0.5818181818181818\n",
      "\n",
      "---starting epoch 11---\n",
      "Accuracy after 20000 sentences in epoch 11 is : 0.5709090909090909\n",
      "Accuracy after 40000 sentences in epoch 11 is : 0.5345454545454545\n",
      "Accuracy after 60000 sentences in epoch 11 is : 0.5945454545454546\n",
      "Accuracy after 80000 sentences in epoch 11 is : 0.5690909090909091\n",
      "Accuracy after 100000 sentences in epoch 11 is : 0.5872727272727273\n",
      "Accuracy after 120000 sentences in epoch 11 is : 0.5909090909090909\n",
      "Accuracy at the end of epoch 11 is 0.5909090909090909\n",
      "\n",
      "---starting epoch 12---\n",
      "Accuracy after 20000 sentences in epoch 12 is : 0.49636363636363634\n",
      "Accuracy after 40000 sentences in epoch 12 is : 0.5309090909090909\n",
      "Accuracy after 60000 sentences in epoch 12 is : 0.5781818181818181\n",
      "Accuracy after 80000 sentences in epoch 12 is : 0.5763636363636364\n",
      "Accuracy after 100000 sentences in epoch 12 is : 0.5618181818181818\n",
      "Accuracy after 120000 sentences in epoch 12 is : 0.5745454545454546\n",
      "Accuracy at the end of epoch 12 is 0.58\n",
      "\n",
      "---starting epoch 13---\n",
      "Accuracy after 20000 sentences in epoch 13 is : 0.5254545454545455\n",
      "Accuracy after 40000 sentences in epoch 13 is : 0.5563636363636364\n",
      "Accuracy after 60000 sentences in epoch 13 is : 0.58\n",
      "Accuracy after 80000 sentences in epoch 13 is : 0.5709090909090909\n",
      "Accuracy after 100000 sentences in epoch 13 is : 0.5818181818181818\n",
      "Accuracy after 120000 sentences in epoch 13 is : 0.5927272727272728\n",
      "Accuracy at the end of epoch 13 is 0.5745454545454546\n",
      "\n",
      "---starting epoch 14---\n",
      "Accuracy after 20000 sentences in epoch 14 is : 0.5109090909090909\n",
      "Accuracy after 40000 sentences in epoch 14 is : 0.5527272727272727\n",
      "Accuracy after 60000 sentences in epoch 14 is : 0.5781818181818181\n",
      "Accuracy after 80000 sentences in epoch 14 is : 0.5818181818181818\n",
      "Accuracy after 100000 sentences in epoch 14 is : 0.58\n",
      "Accuracy after 120000 sentences in epoch 14 is : 0.5781818181818181\n",
      "Accuracy at the end of epoch 14 is 0.58\n",
      "\n",
      "---starting epoch 15---\n",
      "Accuracy after 20000 sentences in epoch 15 is : 0.5290909090909091\n",
      "Accuracy after 40000 sentences in epoch 15 is : 0.5527272727272727\n"
     ]
    },
    {
     "name": "stdout",
     "output_type": "stream",
     "text": [
      "Accuracy after 60000 sentences in epoch 15 is : 0.5636363636363636\n",
      "Accuracy after 80000 sentences in epoch 15 is : 0.5818181818181818\n",
      "Accuracy after 100000 sentences in epoch 15 is : 0.58\n",
      "Accuracy after 120000 sentences in epoch 15 is : 0.5745454545454546\n",
      "Accuracy at the end of epoch 15 is 0.5872727272727273\n",
      "\n",
      "---starting epoch 16---\n",
      "Accuracy after 20000 sentences in epoch 16 is : 0.5109090909090909\n",
      "Accuracy after 40000 sentences in epoch 16 is : 0.56\n",
      "Accuracy after 60000 sentences in epoch 16 is : 0.5854545454545454\n",
      "Accuracy after 80000 sentences in epoch 16 is : 0.5836363636363636\n",
      "Accuracy after 100000 sentences in epoch 16 is : 0.5690909090909091\n",
      "Accuracy after 120000 sentences in epoch 16 is : 0.5927272727272728\n",
      "Accuracy at the end of epoch 16 is 0.5963636363636363\n",
      "\n",
      "---starting epoch 17---\n",
      "Accuracy after 20000 sentences in epoch 17 is : 0.5145454545454545\n",
      "Accuracy after 40000 sentences in epoch 17 is : 0.5527272727272727\n",
      "Accuracy after 60000 sentences in epoch 17 is : 0.5927272727272728\n",
      "Accuracy after 80000 sentences in epoch 17 is : 0.5981818181818181\n",
      "Accuracy after 100000 sentences in epoch 17 is : 0.5836363636363636\n",
      "Accuracy after 120000 sentences in epoch 17 is : 0.5836363636363636\n",
      "Accuracy at the end of epoch 17 is 0.5690909090909091\n",
      "\n",
      "---starting epoch 18---\n",
      "Accuracy after 20000 sentences in epoch 18 is : 0.5218181818181818\n",
      "Accuracy after 40000 sentences in epoch 18 is : 0.5690909090909091\n",
      "Accuracy after 60000 sentences in epoch 18 is : 0.5763636363636364\n",
      "Accuracy after 80000 sentences in epoch 18 is : 0.5636363636363636\n",
      "Accuracy after 100000 sentences in epoch 18 is : 0.5890909090909091\n",
      "Accuracy after 120000 sentences in epoch 18 is : 0.5945454545454546\n",
      "Accuracy at the end of epoch 18 is 0.5618181818181818\n",
      "\n",
      "---starting epoch 19---\n",
      "Accuracy after 20000 sentences in epoch 19 is : 0.5309090909090909\n",
      "Accuracy after 40000 sentences in epoch 19 is : 0.5436363636363636\n",
      "Accuracy after 60000 sentences in epoch 19 is : 0.5927272727272728\n",
      "Accuracy after 80000 sentences in epoch 19 is : 0.5618181818181818\n",
      "Accuracy after 100000 sentences in epoch 19 is : 0.5872727272727273\n",
      "Accuracy after 120000 sentences in epoch 19 is : 0.610909090909091\n",
      "Accuracy at the end of epoch 19 is 0.6054545454545455\n",
      "\n"
     ]
    }
   ],
   "source": [
    "feature_weight_dict = create_weight_dictionary(training_data)\n",
    "stats, best_weights = train_classifier(training_data, feature_weight_dict, 20, perceptron_loss, dev_data, dev_test_data)\n",
    "best_acc, dev_test_acc = stats"
   ]
  },
  {
   "cell_type": "code",
   "execution_count": 5,
   "metadata": {},
   "outputs": [
    {
     "data": {
      "text/plain": [
       "0.64909090909090905"
      ]
     },
     "execution_count": 5,
     "metadata": {},
     "output_type": "execute_result"
    }
   ],
   "source": [
    "best_acc"
   ]
  },
  {
   "cell_type": "code",
   "execution_count": 6,
   "metadata": {},
   "outputs": [
    {
     "data": {
      "text/plain": [
       "0.58802177858439197"
      ]
     },
     "execution_count": 6,
     "metadata": {},
     "output_type": "execute_result"
    }
   ],
   "source": [
    "dev_test_acc"
   ]
  },
  {
   "cell_type": "code",
   "execution_count": null,
   "metadata": {},
   "outputs": [],
   "source": []
  }
 ],
 "metadata": {
  "kernelspec": {
   "display_name": "Python 3",
   "language": "python",
   "name": "python3"
  },
  "language_info": {
   "codemirror_mode": {
    "name": "ipython",
    "version": 3
   },
   "file_extension": ".py",
   "mimetype": "text/x-python",
   "name": "python",
   "nbconvert_exporter": "python",
   "pygments_lexer": "ipython3",
   "version": "3.6.4"
  }
 },
 "nbformat": 4,
 "nbformat_minor": 2
}
