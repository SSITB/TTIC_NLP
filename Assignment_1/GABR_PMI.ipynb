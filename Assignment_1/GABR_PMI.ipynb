{
 "cells": [
  {
   "cell_type": "code",
   "execution_count": 1,
   "metadata": {},
   "outputs": [],
   "source": [
    "import numpy as np\n",
    "np.seterr(divide='ignore', invalid='ignore')\n",
    "import pandas as pd\n",
    "from collections import Counter, defaultdict\n",
    "import copy\n",
    "from scipy.stats import spearmanr\n",
    "from sklearn.metrics.pairwise import cosine_similarity\n",
    "from sklearn.decomposition import TruncatedSVD\n",
    "from scipy.sparse import csr_matrix\n",
    "from IPython.display import Image"
   ]
  },
  {
   "cell_type": "code",
   "execution_count": 2,
   "metadata": {},
   "outputs": [],
   "source": [
    "# will help with filepath construction\n",
    "cd = !pwd"
   ]
  },
  {
   "cell_type": "markdown",
   "metadata": {},
   "source": [
    "# Section 1.1\n",
    "\n",
    "- `men_dict` is the dictionary that contains human annotated similarities for word pairs from the MEN word similarity dataset.\n",
    "\n",
    "- `simlex_999_dict` is the dictionary that contains human annotated similarities for word pair from the SimLex-999 word similarity dataset."
   ]
  },
  {
   "cell_type": "code",
   "execution_count": 3,
   "metadata": {},
   "outputs": [],
   "source": [
    "def gen_VC_dict(filename):\n",
    "    \"\"\"\n",
    "    Generates the features that populate Vc\n",
    "    \"\"\"\n",
    "    V_C_dict = {}\n",
    "    with open(cd[0]+\"/hw1/text_files/\"+filename) as document:\n",
    "        for line in document:\n",
    "            word = line.strip()\n",
    "            V_C_dict[word] = 0\n",
    "    return V_C_dict\n",
    "\n",
    "def gen_V_dict(vocab_dict, filename):\n",
    "    \"\"\"\n",
    "    Generates the matrix |V| X |Vc| in dictionary form\n",
    "    \"\"\"\n",
    "    V_dict = {}\n",
    "    with open(cd[0]+\"/hw1/text_files/\"+filename) as document:\n",
    "        for line in document:\n",
    "            V_dict[line.strip()] = copy.deepcopy(vocab_dict) # critical to have deepcopys!\n",
    "\n",
    "    return V_dict"
   ]
  },
  {
   "cell_type": "markdown",
   "metadata": {},
   "source": [
    "# Generating Vocabulary dictionaries\n",
    "\n",
    "\n",
    "The instructions specify  two types of word contexts:\n",
    "\n",
    "- Section 1: `vocab-wordsim.txt` to populate $V$ and `vocab-25k.txt ` to populate $V_c$\n",
    "\n",
    "- Section 1.4: `vocab-25k.txt` to populate $V$ and $V_c$\n"
   ]
  },
  {
   "cell_type": "code",
   "execution_count": 4,
   "metadata": {},
   "outputs": [],
   "source": [
    "def extract_duplicates(lst):\n",
    "    \"\"\"\n",
    "    helper function for duplicate_indicies\n",
    "    \"\"\"\n",
    "    count = Counter(lst)\n",
    "    return [k for k in count.keys() if count[k]> 1]\n",
    "\n",
    "def duplicate_indices(lst):\n",
    "    \"\"\"\n",
    "    Extract the indicies of duplicate elements in a list\n",
    "    \"\"\"\n",
    "    dup, ix = extract_duplicates(lst), defaultdict(list)\n",
    "    for i, v in enumerate(lst):\n",
    "        if v in dup: ix[v].append(i)\n",
    "    return ix"
   ]
  },
  {
   "cell_type": "code",
   "execution_count": 5,
   "metadata": {},
   "outputs": [],
   "source": [
    "def update_dict(c_dict, mtx_dict, keyword):\n",
    "    \"\"\"\n",
    "    c_dict represents a counter dictionary with the co-occurences around a keyword.\n",
    "    \n",
    "    mtx_dict represents the entire word-context matrix in dictionary form (nested dictionarys).\n",
    "    \n",
    "    The outer-most keys of mtx_dict correspond to V\n",
    "    \n",
    "    The second layer of mtx_dict keys correspond to Vc\n",
    "    \"\"\"\n",
    "    for j in c_dict:\n",
    "        if j in mtx_dict[keyword]: # we could have certain words that do not exist in Vc\n",
    "            mtx_dict[keyword][j] += c_dict[j]\n",
    "        else:\n",
    "            continue"
   ]
  },
  {
   "cell_type": "code",
   "execution_count": 1,
   "metadata": {},
   "outputs": [],
   "source": [
    "def process_counts(sen_list, common_set, wind, mtx_dict):\n",
    "    \"\"\"\n",
    "    This function assists with the parsing of sentences in the wikipedia corpus.\n",
    "    \n",
    "    The function takes a sentence list, which is a single parsed sentence, from the wiki corpus, as a list.\n",
    "    \n",
    "    Common set represents word in the feature space of V that is present in the sentence list.\n",
    "    \n",
    "    I iterate through this common set and find the starting index within the parsed sentence list. This serves as the\n",
    "    starting point to instantiate the window. The window is specified by the wind argument.\n",
    "    \n",
    "    This function takes into account that a word that appears in the feature space of V, might appear more than once\n",
    "    in a parsed sentence. As such, it will calculate the co-occurences in the appropriate window for every instance of\n",
    "    the word in the parsed sentence.\n",
    "    \n",
    "    In order to keep count the co-occuring words, I use the Counter function from the collections library.\n",
    "    \n",
    "    This function updates the dictionary INPLACE - there is nothing to be returned.\n",
    "    \n",
    "    \"\"\"\n",
    "    for word in common_set:\n",
    "\n",
    "        cent_indicies = duplicate_indices(sen_list)[word]\n",
    "        if cent_indicies == []:\n",
    "            cent_idx = sen_list.index(word)\n",
    "            lower_bound = cent_idx - wind\n",
    "            \n",
    "            if lower_bound < 0:\n",
    "                lower_bound = 0\n",
    "            \n",
    "            upper_bound = cent_idx + wind + 1\n",
    "            \n",
    "            \n",
    "            window_list = sen_list[lower_bound:upper_bound]\n",
    "\n",
    "            window_list.pop(window_list.index(word))\n",
    "\n",
    "            counter_dict = Counter(window_list)\n",
    "            update_dict(counter_dict, mtx_dict, word)\n",
    "        else:\n",
    "            for cent_idx in cent_indicies:\n",
    "                lower_bound = cent_idx - wind\n",
    "            \n",
    "                if lower_bound < 0:\n",
    "                    lower_bound = 0\n",
    "            \n",
    "                upper_bound = cent_idx + wind + 1\n",
    "            \n",
    "                window_list = sen_list[lower_bound:upper_bound]\n",
    "                \n",
    "                window_list.pop(window_list.index(word))\n",
    "                \n",
    "                counter_dict = Counter(window_list)\n",
    "                \n",
    "                update_dict(counter_dict, mtx_dict, word)"
   ]
  },
  {
   "cell_type": "code",
   "execution_count": 7,
   "metadata": {},
   "outputs": [],
   "source": [
    "def gen_word_context(mtx_dict, window_value):\n",
    "    \"\"\"\n",
    "    Generates the word context matrix, given a matrix dictionary and a window value.\n",
    "    \n",
    "    Note: This function alters the inputted mtx_dict IN PLACE, so that it can later be easily turned\n",
    "    into a pandas dataframe which will represent the word context matrix.\n",
    "    \"\"\"\n",
    "    with open(cd[0]+\"/hw1/wiki-1percent.txt\") as document:\n",
    "        count = 0\n",
    "        V_dim_words = mtx_dict.keys()\n",
    "        for line in document:\n",
    "            if count % 100000 == 0:\n",
    "                print(count, \"lines completed so far!\")\n",
    "            line = \"<s> \" + line + \" </s>\" #padding a line with <s> and </s>\n",
    "            cleaned = line.strip()\n",
    "            sentence_list = cleaned.split()\n",
    "            common = set(sentence_list).intersection(V_dim_words)\n",
    "            if common: \n",
    "                process_counts(sentence_list, common, window_value, mtx_dict)\n",
    "                count +=1\n",
    "            else:\n",
    "                count += 1\n",
    "                continue\n",
    "    return mtx_dict"
   ]
  },
  {
   "cell_type": "code",
   "execution_count": 8,
   "metadata": {},
   "outputs": [],
   "source": [
    "def extract_human_annotation(filename):\n",
    "    \"\"\"\n",
    "    This function makes a clean dictionary containing the word pairs as keys and the associated human annotated\n",
    "    similarity scores between them as values.\n",
    "    \"\"\"\n",
    "    d = {}\n",
    "    with open(cd[0]+\"/hw1/text_files/\"+filename) as document:\n",
    "        lst = list(document)\n",
    "        for i in lst[1:]:\n",
    "            clean_lst =i.strip().split(\"\\t\")\n",
    "            key=tuple(clean_lst[:2])\n",
    "            value = float(clean_lst[-1])\n",
    "            d[key] = value\n",
    "    return d\n",
    "\n",
    "def calculate_spearmen(wc_mtx, human_dict):\n",
    "    \"\"\"\n",
    "    Given a word-context matrix (in the form of a pandas dataframe) and a dictionary containing pairs of words as keys\n",
    "    and their associated human annotated similarity scores as values - this function will calculate the spearmen\n",
    "    correlation coefficient between the cosine similarity of word pairs in the word-contect matrix and their human\n",
    "    annotated counterparts.\n",
    "    \"\"\"\n",
    "    wc_cosine_sim = {}\n",
    "    wc_sim_list = []\n",
    "    human_sim_list = []\n",
    "    vocab_list = wc_mtx.index\n",
    "    \n",
    "    for pair in human_dict:\n",
    "        first, second = pair\n",
    "        if first in vocab_list and second in vocab_list:\n",
    "            vec_1 = csr_matrix(wc_mtx.loc[first, :].values.reshape(1,-1)) #sparse array\n",
    "            vec_2 = csr_matrix(wc_mtx.loc[second, :].values.reshape(1,-1)) #sparse array\n",
    "            wc_cosine_sim[pair] = cosine_similarity(vec_1, vec_2)[0][0]\n",
    "        else:\n",
    "            wc_cosine_sim[pair] = 0.0\n",
    "    \n",
    "    for pair in human_dict:\n",
    "        wc_sim_list.append(wc_cosine_sim[pair])\n",
    "        human_sim_list.append(human_dict[pair])\n",
    "    \n",
    "    \n",
    "    return spearmanr(wc_sim_list, human_sim_list, axis=None).correlation"
   ]
  },
  {
   "cell_type": "code",
   "execution_count": 9,
   "metadata": {},
   "outputs": [
    {
     "name": "stdout",
     "output_type": "stream",
     "text": [
      "0 lines completed so far!\n",
      "100000 lines completed so far!\n",
      "200000 lines completed so far!\n",
      "300000 lines completed so far!\n",
      "400000 lines completed so far!\n",
      "500000 lines completed so far!\n",
      "600000 lines completed so far!\n",
      "700000 lines completed so far!\n",
      "800000 lines completed so far!\n",
      "900000 lines completed so far!\n",
      "The word-context matrix has dimensions (1577, 25000)\n"
     ]
    }
   ],
   "source": [
    "V_dict_window_3 = gen_V_dict(gen_VC_dict(\"vocab-25k.txt\"), \"vocab-wordsim.txt\")\n",
    "\n",
    "word_context_3 = pd.DataFrame(gen_word_context(V_dict_window_3, 3)).T\n",
    "\n",
    "# these variables below will be useful to reconstruct dataframes later on\n",
    "ind = word_context_3.index\n",
    "col_names = word_context_3.columns\n",
    "\n",
    "print(f\"The word-context matrix has dimensions {word_context_3.shape}\")"
   ]
  },
  {
   "cell_type": "code",
   "execution_count": 10,
   "metadata": {},
   "outputs": [
    {
     "data": {
      "text/html": [
       "<div>\n",
       "<style scoped>\n",
       "    .dataframe tbody tr th:only-of-type {\n",
       "        vertical-align: middle;\n",
       "    }\n",
       "\n",
       "    .dataframe tbody tr th {\n",
       "        vertical-align: top;\n",
       "    }\n",
       "\n",
       "    .dataframe thead th {\n",
       "        text-align: right;\n",
       "    }\n",
       "</style>\n",
       "<table border=\"1\" class=\"dataframe\">\n",
       "  <thead>\n",
       "    <tr style=\"text-align: right;\">\n",
       "      <th></th>\n",
       "      <th>!</th>\n",
       "      <th>\"</th>\n",
       "      <th>'</th>\n",
       "      <th>'a</th>\n",
       "      <th>'an</th>\n",
       "      <th>'art</th>\n",
       "      <th>'brien</th>\n",
       "      <th>'clock</th>\n",
       "      <th>'connell</th>\n",
       "      <th>'connor</th>\n",
       "      <th>...</th>\n",
       "      <th>éireann</th>\n",
       "      <th>émile</th>\n",
       "      <th>ó</th>\n",
       "      <th>über</th>\n",
       "      <th>łódź</th>\n",
       "      <th>α</th>\n",
       "      <th>ᗅᗺᗷᗅ</th>\n",
       "      <th>ὁ</th>\n",
       "      <th>アニメ</th>\n",
       "      <th>곤지</th>\n",
       "    </tr>\n",
       "  </thead>\n",
       "  <tbody>\n",
       "    <tr>\n",
       "      <th>abandoned</th>\n",
       "      <td>0</td>\n",
       "      <td>12</td>\n",
       "      <td>1</td>\n",
       "      <td>0</td>\n",
       "      <td>0</td>\n",
       "      <td>0</td>\n",
       "      <td>0</td>\n",
       "      <td>0</td>\n",
       "      <td>0</td>\n",
       "      <td>0</td>\n",
       "      <td>...</td>\n",
       "      <td>0</td>\n",
       "      <td>0</td>\n",
       "      <td>0</td>\n",
       "      <td>0</td>\n",
       "      <td>0</td>\n",
       "      <td>0</td>\n",
       "      <td>0</td>\n",
       "      <td>0</td>\n",
       "      <td>0</td>\n",
       "      <td>0</td>\n",
       "    </tr>\n",
       "    <tr>\n",
       "      <th>abdomen</th>\n",
       "      <td>0</td>\n",
       "      <td>1</td>\n",
       "      <td>0</td>\n",
       "      <td>0</td>\n",
       "      <td>0</td>\n",
       "      <td>0</td>\n",
       "      <td>0</td>\n",
       "      <td>0</td>\n",
       "      <td>0</td>\n",
       "      <td>0</td>\n",
       "      <td>...</td>\n",
       "      <td>0</td>\n",
       "      <td>0</td>\n",
       "      <td>0</td>\n",
       "      <td>0</td>\n",
       "      <td>0</td>\n",
       "      <td>0</td>\n",
       "      <td>0</td>\n",
       "      <td>0</td>\n",
       "      <td>0</td>\n",
       "      <td>0</td>\n",
       "    </tr>\n",
       "    <tr>\n",
       "      <th>ability</th>\n",
       "      <td>0</td>\n",
       "      <td>41</td>\n",
       "      <td>20</td>\n",
       "      <td>0</td>\n",
       "      <td>0</td>\n",
       "      <td>0</td>\n",
       "      <td>0</td>\n",
       "      <td>0</td>\n",
       "      <td>0</td>\n",
       "      <td>0</td>\n",
       "      <td>...</td>\n",
       "      <td>0</td>\n",
       "      <td>0</td>\n",
       "      <td>0</td>\n",
       "      <td>0</td>\n",
       "      <td>0</td>\n",
       "      <td>0</td>\n",
       "      <td>0</td>\n",
       "      <td>0</td>\n",
       "      <td>0</td>\n",
       "      <td>0</td>\n",
       "    </tr>\n",
       "    <tr>\n",
       "      <th>absence</th>\n",
       "      <td>1</td>\n",
       "      <td>10</td>\n",
       "      <td>5</td>\n",
       "      <td>0</td>\n",
       "      <td>0</td>\n",
       "      <td>0</td>\n",
       "      <td>0</td>\n",
       "      <td>0</td>\n",
       "      <td>0</td>\n",
       "      <td>0</td>\n",
       "      <td>...</td>\n",
       "      <td>0</td>\n",
       "      <td>0</td>\n",
       "      <td>0</td>\n",
       "      <td>0</td>\n",
       "      <td>0</td>\n",
       "      <td>0</td>\n",
       "      <td>0</td>\n",
       "      <td>0</td>\n",
       "      <td>0</td>\n",
       "      <td>0</td>\n",
       "    </tr>\n",
       "    <tr>\n",
       "      <th>absorb</th>\n",
       "      <td>0</td>\n",
       "      <td>2</td>\n",
       "      <td>2</td>\n",
       "      <td>0</td>\n",
       "      <td>0</td>\n",
       "      <td>0</td>\n",
       "      <td>0</td>\n",
       "      <td>0</td>\n",
       "      <td>0</td>\n",
       "      <td>0</td>\n",
       "      <td>...</td>\n",
       "      <td>0</td>\n",
       "      <td>0</td>\n",
       "      <td>0</td>\n",
       "      <td>0</td>\n",
       "      <td>0</td>\n",
       "      <td>0</td>\n",
       "      <td>0</td>\n",
       "      <td>0</td>\n",
       "      <td>0</td>\n",
       "      <td>0</td>\n",
       "    </tr>\n",
       "  </tbody>\n",
       "</table>\n",
       "<p>5 rows × 25000 columns</p>\n",
       "</div>"
      ],
      "text/plain": [
       "           !   \"   '  'a  'an  'art  'brien  'clock  'connell  'connor ...  \\\n",
       "abandoned  0  12   1   0    0     0       0       0         0        0 ...   \n",
       "abdomen    0   1   0   0    0     0       0       0         0        0 ...   \n",
       "ability    0  41  20   0    0     0       0       0         0        0 ...   \n",
       "absence    1  10   5   0    0     0       0       0         0        0 ...   \n",
       "absorb     0   2   2   0    0     0       0       0         0        0 ...   \n",
       "\n",
       "           éireann  émile  ó  über  łódź  α  ᗅᗺᗷᗅ  ὁ  アニメ  곤지  \n",
       "abandoned        0      0  0     0     0  0     0  0    0   0  \n",
       "abdomen          0      0  0     0     0  0     0  0    0   0  \n",
       "ability          0      0  0     0     0  0     0  0    0   0  \n",
       "absence          0      0  0     0     0  0     0  0    0   0  \n",
       "absorb           0      0  0     0     0  0     0  0    0   0  \n",
       "\n",
       "[5 rows x 25000 columns]"
      ]
     },
     "execution_count": 10,
     "metadata": {},
     "output_type": "execute_result"
    }
   ],
   "source": [
    "word_context_3.head()"
   ]
  },
  {
   "cell_type": "code",
   "execution_count": 14,
   "metadata": {},
   "outputs": [],
   "source": [
    "men_dict = extract_human_annotation(\"men.txt\")\n",
    "simlex_999_dict = extract_human_annotation(\"simlex-999.txt\")"
   ]
  },
  {
   "cell_type": "code",
   "execution_count": 12,
   "metadata": {},
   "outputs": [
    {
     "data": {
      "text/plain": [
       "0.22433852567075044"
      ]
     },
     "execution_count": 12,
     "metadata": {},
     "output_type": "execute_result"
    }
   ],
   "source": [
    "# Spearmen correlation with MEN dataset\n",
    "calculate_spearmen(word_context_3, men_dict)"
   ]
  },
  {
   "cell_type": "code",
   "execution_count": 13,
   "metadata": {},
   "outputs": [
    {
     "data": {
      "text/plain": [
       "0.060167944156962118"
      ]
     },
     "execution_count": 13,
     "metadata": {},
     "output_type": "execute_result"
    }
   ],
   "source": [
    "# Spearmen correlation with SimLex-999 dataset\n",
    "calculate_spearmen(word_context_3, simlex_999_dict)"
   ]
  },
  {
   "cell_type": "code",
   "execution_count": 14,
   "metadata": {
    "scrolled": true
   },
   "outputs": [],
   "source": [
    "# just a fun function I wrote for exploration\n",
    "# def see_top_rank(mtx_dict, keyword, k):\n",
    "#     \"\"\"\n",
    "#     Given a dictionary representing the entire word-context matrix (nested dictionarys) and a keyword that is present\n",
    "#     in the dimension of V, and an integer value of k - this function will return the top co-occuring words of the\n",
    "#     keyword and their respective counts in a list of size k.\n",
    "#     \"\"\"\n",
    "#     return sorted(mtx_dict[keyword].items(), reverse=True, key=lambda x: x[1])[:k]"
   ]
  },
  {
   "cell_type": "code",
   "execution_count": 15,
   "metadata": {},
   "outputs": [],
   "source": [
    "# # 20 most common words that fall within a 3-window region of the word butterfly\n",
    "# see_top_rank(V_dict_window_3, \"butterfly\", 20)"
   ]
  },
  {
   "cell_type": "markdown",
   "metadata": {},
   "source": [
    "# Section 1.2\n",
    "\n",
    "Below, we see that spearmen correlation significantly improved when using $C_{pmi}$ with both of the human annoted datasets."
   ]
  },
  {
   "cell_type": "code",
   "execution_count": 9,
   "metadata": {},
   "outputs": [],
   "source": [
    "def double_sum(array):\n",
    "    \"\"\"\n",
    "    sum over all rows first and then sum those sums\n",
    "    \"\"\"\n",
    "    return np.sum(np.einsum(\"ij->i\", array))\n",
    "\n",
    "def gen_joint_probs(array):\n",
    "    \"\"\"\n",
    "    For a given array, generate the joint distribution array\n",
    "    \"\"\"\n",
    "    return array/double_sum(array)\n",
    "\n",
    "def row_probs(array):\n",
    "    \"\"\"\n",
    "    This function represents p(w) for each row.\n",
    "    \"\"\"\n",
    "    return np.einsum(\"ij-> i\", array)\n",
    "\n",
    "def col_probs(array):\n",
    "    \"\"\"\n",
    "    This function represents p(context) for each column.\n",
    "    \"\"\"\n",
    "    return np.einsum(\"ij->j\", array)\n",
    "\n",
    "def gen_PMI(array, smoothing=False, smooth_const=2):\n",
    "    \"\"\"\n",
    "    For a given input array, generate the PMI matrix.\n",
    "    \n",
    "    To activate laplace smoothing, set smoothing to True.\n",
    "    \n",
    "    Default smoothing set to False. If True, smoothing factor=2\n",
    "    \"\"\"\n",
    "    if smoothing:\n",
    "        array = array + smooth_const\n",
    "\n",
    "    context_matrix = gen_joint_probs(array)\n",
    "    p_w = row_probs(context_matrix)\n",
    "    p_c = col_probs(context_matrix)\n",
    "    \n",
    "    PMI_mtx = context_matrix/p_w[:, np.newaxis]\n",
    "    PMI_mtx = np.divide(PMI_mtx, p_c)\n",
    "    PMI_mtx[np.isnan(PMI_mtx)] = 0 \n",
    "    PMI_mtx[PMI_mtx != 0] = np.log2(PMI_mtx[PMI_mtx!=0])\n",
    "    PMI_mtx[PMI_mtx < 0] = 0 # remove negative values - PPMI\n",
    "    \n",
    "    return PMI_mtx"
   ]
  },
  {
   "cell_type": "code",
   "execution_count": 17,
   "metadata": {},
   "outputs": [],
   "source": [
    "PMI_3 = gen_PMI(word_context_3.values)\n",
    "PMI_3_df = pd.DataFrame(data=PMI_3, index=ind, columns=col_names)"
   ]
  },
  {
   "cell_type": "code",
   "execution_count": 18,
   "metadata": {},
   "outputs": [
    {
     "data": {
      "text/plain": [
       "0.53009991996036787"
      ]
     },
     "execution_count": 18,
     "metadata": {},
     "output_type": "execute_result"
    }
   ],
   "source": [
    "# improvement\n",
    "calculate_spearmen(PMI_3_df,men_dict)"
   ]
  },
  {
   "cell_type": "code",
   "execution_count": 19,
   "metadata": {},
   "outputs": [
    {
     "data": {
      "text/plain": [
       "0.21155047147102188"
      ]
     },
     "execution_count": 19,
     "metadata": {},
     "output_type": "execute_result"
    }
   ],
   "source": [
    "# improvement\n",
    "calculate_spearmen(PMI_3_df,simlex_999_dict)"
   ]
  },
  {
   "cell_type": "markdown",
   "metadata": {},
   "source": [
    "## Section 1.3\n",
    "\n",
    "### Results:\n",
    "\n",
    "For a $w=1$:\n",
    "\n",
    "- Word-Context Matrix Spearmen Correlation with MEN: 0.20992265447069547\n",
    "\n",
    "- Word-Context Spearmen Correlation with SimLex-999: 0.076352221431596479\n",
    "\n",
    "- PMI Matrix Spearmen Correlation with MEN: 0.46582757219241999\n",
    "\n",
    "- PMI Matrix Spearmen Correlation with SimLex-999: 0.27174346860787052\n",
    "\n",
    "For a $w=3$: (See section 1.2 for code)\n",
    "\n",
    "- Word-Context Matrix Spearmen Correlation with MEN: 0.22433852567075044\n",
    "\n",
    "- Word-Context Spearmen Correlation with SimLex-999: 0.060167944156962118\n",
    "\n",
    "- PMI Matrix Spearmen Correlation with MEN: 0.53009991996036787\n",
    "\n",
    "- PMI Matrix Spearmen Correlation with SimLex-999: 0.21155047147102188\n",
    "\n",
    "For a $w=6$:\n",
    "\n",
    "- Word-Context Matrix Spearmen Correlation with MEN: 0.23790636810978752\n",
    "\n",
    "- Word-Context Spearmen Correlation with SimLex-999: 0.03937517035680782\n",
    "\n",
    "- PMI Matrix Spearmen Correlation with MEN: 0.52984944584486227\n",
    "\n",
    "- PMI Matrix Spearmen Correlation with SimLex-999: 0.15988730003494581\n",
    "\n",
    "### Discussion\n",
    "\n",
    "The first thing to notice, is that every window level, there is a stronger spearmen correlation when using the PMI matrix over a simple word-context matrix. Intuitively, this makes sense as the PMI matrix represents how closely dependent words are, whereas the word-context matrix is just a simple count.\n",
    "\n",
    "We also notice that PMI matrix, when compared to the MEN dataset, has the highest correlation coefficient at every window size.\n",
    "\n",
    "Once again, this is sensible as the MEN dataset is focused on the relatedness of words. As such, the PMI matrix is a measure of relatedness.\n",
    "\n",
    "It is important to recall that the SimLex-999 dataset is focused on meaning, rather than relatedness - thus, we should not be surpised that we get a spearmen correlation.\n",
    "\n",
    "We also see that regardless of window level, the spearmen correlation was pretty much constant for the word context matrix when compared to SimLex-999.\n",
    "\n",
    "The same can be said for the word context matrix when compared to MEN, although there was a slight increase in correlation at $w=6$.\n",
    "\n",
    "There is a clear downward trend for the PMI matrix when compared with SimLex-999 as window size increases. This might be because an increase in window size, might be confouding the 'meaning' of the centre word.\n",
    "\n",
    "There was a slight increase in the correlation coefficient between the PMI matrix and the MEN dataset from $w=1$ to $w=3$. From $w=3$ to $w=6$ the correlation remained roughly the same."
   ]
  },
  {
   "cell_type": "code",
   "execution_count": 20,
   "metadata": {},
   "outputs": [
    {
     "data": {
      "image/png": "[encoded data removed]",
      "text/plain": [
       "<IPython.core.display.Image object>"
      ]
     },
     "execution_count": 20,
     "metadata": {},
     "output_type": "execute_result"
    }
   ],
   "source": [
    "Image(\"spearmen_plots.png\")"
   ]
  },
  {
   "cell_type": "code",
   "execution_count": 21,
   "metadata": {},
   "outputs": [
    {
     "name": "stdout",
     "output_type": "stream",
     "text": [
      "0 lines completed so far!\n",
      "100000 lines completed so far!\n",
      "200000 lines completed so far!\n",
      "300000 lines completed so far!\n",
      "400000 lines completed so far!\n",
      "500000 lines completed so far!\n",
      "600000 lines completed so far!\n",
      "700000 lines completed so far!\n",
      "800000 lines completed so far!\n",
      "900000 lines completed so far!\n"
     ]
    }
   ],
   "source": [
    "V_dict_window_1 = gen_V_dict(gen_VC_dict(\"vocab-25k.txt\"), \"vocab-wordsim.txt\")\n",
    "word_context_1 = pd.DataFrame(gen_word_context(V_dict_window_1, 1)).T\n",
    "\n",
    "PMI_1 = gen_PMI(word_context_1.values)\n",
    "PMI_1_df = pd.DataFrame(PMI_1, index=ind, columns=col_names)"
   ]
  },
  {
   "cell_type": "code",
   "execution_count": 22,
   "metadata": {},
   "outputs": [
    {
     "data": {
      "text/plain": [
       "0.20992265447069547"
      ]
     },
     "execution_count": 22,
     "metadata": {},
     "output_type": "execute_result"
    }
   ],
   "source": [
    "calculate_spearmen(word_context_1, men_dict)"
   ]
  },
  {
   "cell_type": "code",
   "execution_count": 23,
   "metadata": {},
   "outputs": [
    {
     "data": {
      "text/plain": [
       "0.076352221431596479"
      ]
     },
     "execution_count": 23,
     "metadata": {},
     "output_type": "execute_result"
    }
   ],
   "source": [
    "calculate_spearmen(word_context_1, simlex_999_dict)"
   ]
  },
  {
   "cell_type": "code",
   "execution_count": 24,
   "metadata": {},
   "outputs": [
    {
     "data": {
      "text/plain": [
       "0.46582757219241999"
      ]
     },
     "execution_count": 24,
     "metadata": {},
     "output_type": "execute_result"
    }
   ],
   "source": [
    "calculate_spearmen(PMI_1_df, men_dict)"
   ]
  },
  {
   "cell_type": "code",
   "execution_count": 25,
   "metadata": {},
   "outputs": [
    {
     "data": {
      "text/plain": [
       "0.27174346860787052"
      ]
     },
     "execution_count": 25,
     "metadata": {},
     "output_type": "execute_result"
    }
   ],
   "source": [
    "calculate_spearmen(PMI_1_df, simlex_999_dict)"
   ]
  },
  {
   "cell_type": "code",
   "execution_count": 26,
   "metadata": {},
   "outputs": [
    {
     "name": "stdout",
     "output_type": "stream",
     "text": [
      "0 lines completed so far!\n",
      "100000 lines completed so far!\n",
      "200000 lines completed so far!\n",
      "300000 lines completed so far!\n",
      "400000 lines completed so far!\n",
      "500000 lines completed so far!\n",
      "600000 lines completed so far!\n",
      "700000 lines completed so far!\n",
      "800000 lines completed so far!\n",
      "900000 lines completed so far!\n"
     ]
    }
   ],
   "source": [
    "V_dict_window_6 = gen_V_dict(gen_VC_dict(\"vocab-25k.txt\"), \"vocab-wordsim.txt\")\n",
    "word_context_6 = pd.DataFrame(gen_word_context(V_dict_window_6, 6)).T\n",
    "\n",
    "PMI_6 = gen_PMI(word_context_6.values)\n",
    "PMI_6_df = pd.DataFrame(PMI_6, index=ind, columns=col_names)"
   ]
  },
  {
   "cell_type": "code",
   "execution_count": 27,
   "metadata": {},
   "outputs": [
    {
     "data": {
      "text/plain": [
       "0.23790636810978752"
      ]
     },
     "execution_count": 27,
     "metadata": {},
     "output_type": "execute_result"
    }
   ],
   "source": [
    "calculate_spearmen(word_context_6, men_dict)"
   ]
  },
  {
   "cell_type": "code",
   "execution_count": 28,
   "metadata": {},
   "outputs": [
    {
     "data": {
      "text/plain": [
       "0.03937517035680782"
      ]
     },
     "execution_count": 28,
     "metadata": {},
     "output_type": "execute_result"
    }
   ],
   "source": [
    "calculate_spearmen(word_context_6, simlex_999_dict)"
   ]
  },
  {
   "cell_type": "code",
   "execution_count": 29,
   "metadata": {},
   "outputs": [
    {
     "data": {
      "text/plain": [
       "0.52984944584486227"
      ]
     },
     "execution_count": 29,
     "metadata": {},
     "output_type": "execute_result"
    }
   ],
   "source": [
    "calculate_spearmen(PMI_6_df, men_dict)"
   ]
  },
  {
   "cell_type": "code",
   "execution_count": 30,
   "metadata": {},
   "outputs": [
    {
     "data": {
      "text/plain": [
       "0.15988730003494581"
      ]
     },
     "execution_count": 30,
     "metadata": {},
     "output_type": "execute_result"
    }
   ],
   "source": [
    "calculate_spearmen(PMI_6_df, simlex_999_dict)"
   ]
  },
  {
   "cell_type": "markdown",
   "metadata": {},
   "source": [
    "# Section 1.4"
   ]
  },
  {
   "cell_type": "markdown",
   "metadata": {},
   "source": [
    "## Section 1.4.1"
   ]
  },
  {
   "cell_type": "code",
   "execution_count": 10,
   "metadata": {},
   "outputs": [],
   "source": [
    "def get_neighbors(df, query, k):\n",
    "    \"\"\"\n",
    "    For a given dataframe (PMI), query word and rank (k) - this function will find the k most similar words.\n",
    "    \"\"\"\n",
    "    n_list = []\n",
    "    V_dim = df.index # only concerned with the |V| dimension.\n",
    "    \n",
    "    if query not in V_dim:\n",
    "        return \"This query doesnt not exist in the vocabulary\"\n",
    "    \n",
    "    query_vector = csr_matrix(df.loc[query, :].values.reshape(1,-1))\n",
    "    \n",
    "    for word in V_dim:\n",
    "        if word == query: #avoid having a cosine similarity of 1 with itself\n",
    "            continue\n",
    "        else:\n",
    "            vector = csr_matrix(df.loc[word, :].values.reshape(1,-1))\n",
    "            sim_score = cosine_similarity(query_vector, vector)[0][0]\n",
    "            n_list.append(((query,word),sim_score))\n",
    "    \n",
    "    sorted_lst = sorted(n_list, key=lambda x: x[1], reverse=True)\n",
    "    \n",
    "    return sorted_lst[:k]"
   ]
  },
  {
   "cell_type": "markdown",
   "metadata": {},
   "source": [
    "#### Code below (hashed out) was run on AWS servers because of memory constraints. I used sparse matricies for calculations, however, memory usage was taken up from dataframe creation.\n",
    "\n",
    "#### I used a dataframe as I didnt want to lose track of index and column names. I'm sure there is a better way. I began looking at the following: https://docs.scipy.org/doc/scipy-1.0.0/reference/generated/scipy.sparse.dok_matrix.html#scipy.sparse.dok_matrix"
   ]
  },
  {
   "cell_type": "code",
   "execution_count": 32,
   "metadata": {},
   "outputs": [],
   "source": [
    "# #creates a very very large dataframe object\n",
    "# dict_mtx_1 = gen_V_dict(gen_VC_dict(\"vocab-25k.txt\"), \"vocab-25k.txt\")\n",
    "# word_context_mtx_1 = pd.DataFrame(gen_word_context(dict_mtx_1, 1)).T"
   ]
  },
  {
   "cell_type": "code",
   "execution_count": 33,
   "metadata": {},
   "outputs": [],
   "source": [
    "# # # Write to disk in hdf format - conserve memory\n",
    "# word_context_mtx_1.to_hdf(\"word_context_mtx_1.hdf\", \"section_1_4\", mode=\"w\")\n",
    "\n",
    "# word_context_mtx_1 = pd.read_hdf(\"word_context_mtx_1.hdf\", \"section_1_4\", mode='r+')"
   ]
  },
  {
   "cell_type": "code",
   "execution_count": 11,
   "metadata": {},
   "outputs": [],
   "source": [
    "word_context_mtx_1 = pd.read_hdf(\"word_context_mtx_1.hdf\", \"section_1_4\", mode='r+')"
   ]
  },
  {
   "cell_type": "code",
   "execution_count": 12,
   "metadata": {},
   "outputs": [],
   "source": [
    "ind = word_context_mtx_1.index\n",
    "col_names = word_context_mtx_1.columns\n",
    "\n",
    "C_PMI_1 = gen_PMI(word_context_mtx_1.values)\n",
    "C_PMI_1_df = pd.DataFrame(C_PMI_1, index=ind, columns=col_names)"
   ]
  },
  {
   "cell_type": "code",
   "execution_count": 42,
   "metadata": {},
   "outputs": [
    {
     "data": {
      "text/plain": [
       "[(('monster', 'tyrant'), 0.091455660182717127),\n",
       " (('monster', 'dragon'), 0.089465190403988745),\n",
       " (('monster', 'creatures'), 0.078561900783129995),\n",
       " (('monster', 'jar'), 0.075859226819662812),\n",
       " (('monster', 'monsters'), 0.075855460142266184),\n",
       " (('monster', 'rhinoceros'), 0.075103853126879699),\n",
       " (('monster', 'hornet'), 0.074111599280943019),\n",
       " (('monster', 'spaceship'), 0.072446477695767592),\n",
       " (('monster', 'gangster'), 0.07241586582074469),\n",
       " (('monster', 'invaders'), 0.072328713997566435)]"
      ]
     },
     "execution_count": 42,
     "metadata": {},
     "output_type": "execute_result"
    }
   ],
   "source": [
    "get_neighbors(C_PMI_1_df, \"monster\", 10)"
   ]
  },
  {
   "cell_type": "code",
   "execution_count": 14,
   "metadata": {},
   "outputs": [
    {
     "data": {
      "text/plain": [
       "[(('honda', 'bmw'), 0.1181313626224296),\n",
       " (('honda', 'v8'), 0.095738084630629508),\n",
       " (('honda', 'mississauga'), 0.09532303662819186),\n",
       " (('honda', 'prototype'), 0.09187104323111675),\n",
       " (('honda', 'nissan'), 0.088696861004764399),\n",
       " (('honda', 'toyota'), 0.08595337914446452),\n",
       " (('honda', 'racing'), 0.085865378361386177),\n",
       " (('honda', 'off-road'), 0.085786330623805959),\n",
       " (('honda', 'msa'), 0.08490474997386048),\n",
       " (('honda', 'helmets'), 0.08450471781591451)]"
      ]
     },
     "execution_count": 14,
     "metadata": {},
     "output_type": "execute_result"
    }
   ],
   "source": [
    "get_neighbors(C_PMI_1_df, \"honda\", 10)"
   ]
  },
  {
   "cell_type": "code",
   "execution_count": 15,
   "metadata": {},
   "outputs": [
    {
     "data": {
      "text/plain": [
       "[(('audi', 'volkswagen'), 0.12262595711891182),\n",
       " (('audi', 'motorway'), 0.11620609243976204),\n",
       " (('audi', 'subsidy'), 0.10829278763027003),\n",
       " (('audi', 'faber'), 0.10634547086383156),\n",
       " (('audi', 'wheels'), 0.1045322491568107),\n",
       " (('audi', 'nora'), 0.097442671380306295),\n",
       " (('audi', 'mans'), 0.097265786329696416),\n",
       " (('audi', 'conglomerate'), 0.093557287242583678),\n",
       " (('audi', 'avignon'), 0.088810796881326148),\n",
       " (('audi', 'muller'), 0.086806880487171292)]"
      ]
     },
     "execution_count": 15,
     "metadata": {},
     "output_type": "execute_result"
    }
   ],
   "source": [
    "get_neighbors(C_PMI_1_df, \"audi\", 10)"
   ]
  },
  {
   "cell_type": "code",
   "execution_count": 16,
   "metadata": {},
   "outputs": [
    {
     "data": {
      "text/plain": [
       "[(('toyota', 'chevrolet'), 0.14086060425942065),\n",
       " (('toyota', 'ford'), 0.13005384230602837),\n",
       " (('toyota', 'totaling'), 0.11713740884317853),\n",
       " (('toyota', 'eine'), 0.11153146584471074),\n",
       " (('toyota', 'volvo'), 0.10317780902074943),\n",
       " (('toyota', 'speedway'), 0.10285723586028163),\n",
       " (('toyota', 'yamaha'), 0.099019328532755746),\n",
       " (('toyota', 'touchdowns'), 0.098125980317846001),\n",
       " (('toyota', 'seconds'), 0.094329987479142507),\n",
       " (('toyota', 'indycar'), 0.094164393302449009)]"
      ]
     },
     "execution_count": 16,
     "metadata": {},
     "output_type": "execute_result"
    }
   ],
   "source": [
    "get_neighbors(C_PMI_1_df, \"toyota\", 10)"
   ]
  },
  {
   "cell_type": "code",
   "execution_count": 37,
   "metadata": {},
   "outputs": [],
   "source": [
    "# dict_mtx_6 = gen_V_dict(gen_VC_dict(\"vocab-25k.txt\"), \"vocab-25k.txt\")\n",
    "\n",
    "# word_context_mtx_6 = pd.DataFrame(gen_word_context(dict_mtx_6, 6)).T\n",
    "\n",
    "# word_context_mtx_6.to_hdf(\"word_context_mtx_6.hdf\", \"section_1_4\", mode=\"w\")"
   ]
  },
  {
   "cell_type": "code",
   "execution_count": 17,
   "metadata": {},
   "outputs": [],
   "source": [
    "word_context_mtx_6 = pd.read_hdf(\"word_context_mtx_6.hdf\", \"section_1_4\", mode='r+')\n",
    "ind=word_context_mtx_6.index\n",
    "col_names = word_context_mtx_6.columns"
   ]
  },
  {
   "cell_type": "code",
   "execution_count": 18,
   "metadata": {},
   "outputs": [],
   "source": [
    "C_PMI_6 = gen_PMI(word_context_mtx_6.values)\n",
    "C_PMI_6_df = pd.DataFrame(C_PMI_6, index=ind, columns=col_names)"
   ]
  },
  {
   "cell_type": "code",
   "execution_count": 43,
   "metadata": {},
   "outputs": [
    {
     "data": {
      "text/plain": [
       "[(('monster', '\"'), 0.13222354992193822),\n",
       " (('monster', 'evil'), 0.12948976534729889),\n",
       " (('monster', 'giant'), 0.12553382403562721),\n",
       " (('monster', 'godzilla'), 0.12489821311536724),\n",
       " (('monster', 'monsters'), 0.12443013222925481),\n",
       " (('monster', 'a'), 0.12429136793675384),\n",
       " (('monster', 'creature'), 0.12377292811119044),\n",
       " (('monster', 'him'), 0.1211353951375634),\n",
       " (('monster', 'her'), 0.11769627357133734),\n",
       " (('monster', 'man'), 0.11721939577852217)]"
      ]
     },
     "execution_count": 43,
     "metadata": {},
     "output_type": "execute_result"
    }
   ],
   "source": [
    "get_neighbors(C_PMI_6_df, \"monster\", 10)"
   ]
  },
  {
   "cell_type": "code",
   "execution_count": 19,
   "metadata": {},
   "outputs": [
    {
     "data": {
      "text/plain": [
       "[(('honda', 'toyota'), 0.18735705736794328),\n",
       " (('honda', 'nissan'), 0.17456502621369871),\n",
       " (('honda', 'racing'), 0.1714196671959351),\n",
       " (('honda', 'mitsubishi'), 0.15376205908543525),\n",
       " (('honda', 'car'), 0.15174512646967478),\n",
       " (('honda', 'speedway'), 0.15146622879214458),\n",
       " (('honda', 'indy'), 0.14825607040971986),\n",
       " (('honda', 'renault'), 0.14787737884657767),\n",
       " (('honda', 'cars'), 0.14775118814864874),\n",
       " (('honda', 'engine'), 0.14395110986538126)]"
      ]
     },
     "execution_count": 19,
     "metadata": {},
     "output_type": "execute_result"
    }
   ],
   "source": [
    "get_neighbors(C_PMI_6_df, \"honda\", 10)"
   ]
  },
  {
   "cell_type": "code",
   "execution_count": 20,
   "metadata": {},
   "outputs": [
    {
     "data": {
      "text/plain": [
       "[(('audi', 'mercedes-benz'), 0.20321859951935228),\n",
       " (('audi', 'porsche'), 0.18034912230357231),\n",
       " (('audi', 'a4'), 0.14816470451798966),\n",
       " (('audi', 'volkswagen'), 0.14814978240331839),\n",
       " (('audi', 'bmw'), 0.14777621330321897),\n",
       " (('audi', 'mans'), 0.14547008141521098),\n",
       " (('audi', 'toyota'), 0.14501446769022699),\n",
       " (('audi', 'racing'), 0.14453954645913777),\n",
       " (('audi', 'nissan'), 0.14283813375547144),\n",
       " (('audi', 'v8'), 0.14283359715224031)]"
      ]
     },
     "execution_count": 20,
     "metadata": {},
     "output_type": "execute_result"
    }
   ],
   "source": [
    "get_neighbors(C_PMI_6_df, \"audi\", 10)"
   ]
  },
  {
   "cell_type": "code",
   "execution_count": 21,
   "metadata": {},
   "outputs": [
    {
     "data": {
      "text/plain": [
       "[(('toyota', 'honda'), 0.18735705736794328),\n",
       " (('toyota', 'racing'), 0.18654431190871101),\n",
       " (('toyota', 'mitsubishi'), 0.18252091686426331),\n",
       " (('toyota', 'bmw'), 0.18085521537885096),\n",
       " (('toyota', 'nissan'), 0.18009947821667285),\n",
       " (('toyota', 'cars'), 0.17817608275005009),\n",
       " (('toyota', 'chevrolet'), 0.17559383622842206),\n",
       " (('toyota', 'motors'), 0.17552254036088111),\n",
       " (('toyota', 'motor'), 0.17315435181605382),\n",
       " (('toyota', 'chrysler'), 0.16932458723117708)]"
      ]
     },
     "execution_count": 21,
     "metadata": {},
     "output_type": "execute_result"
    }
   ],
   "source": [
    "get_neighbors(C_PMI_6_df, \"toyota\", 10)"
   ]
  },
  {
   "cell_type": "code",
   "execution_count": 22,
   "metadata": {},
   "outputs": [
    {
     "data": {
      "text/plain": [
       "[(('cars', 'car'), 0.3117000348450657),\n",
       " (('cars', 'vehicles'), 0.27991025180561752),\n",
       " (('cars', 'engine'), 0.25103832366584333),\n",
       " (('cars', 'engines'), 0.22951221360013468),\n",
       " (('cars', 'racing'), 0.22131010679920254),\n",
       " (('cars', 'vehicle'), 0.2182457806261581),\n",
       " (('cars', 'trucks'), 0.20974936541856035),\n",
       " (('cars', 'passenger'), 0.20627641870286392),\n",
       " (('cars', 'motor'), 0.20539216713121847),\n",
       " (('cars', 'chassis'), 0.2033351410693133)]"
      ]
     },
     "execution_count": 22,
     "metadata": {},
     "output_type": "execute_result"
    }
   ],
   "source": [
    "get_neighbors(C_PMI_6_df, \"cars\", 10)"
   ]
  },
  {
   "cell_type": "code",
   "execution_count": 24,
   "metadata": {},
   "outputs": [
    {
     "data": {
      "text/plain": [
       "[(('vin', 'scully'), 0.095811348305096175),\n",
       " (('vin', 'dodgers'), 0.077762487645072612),\n",
       " (('vin', 'vaughn'), 0.071803818300485295),\n",
       " (('vin', 'rollers'), 0.071128585169162567),\n",
       " (('vin', 'vaughan'), 0.068589237170755657),\n",
       " (('vin', 'stooges'), 0.067596797799830521),\n",
       " (('vin', 'diesel'), 0.065004464436843989),\n",
       " (('vin', 'meyer'), 0.064697285448712963),\n",
       " (('vin', 'mystery'), 0.063864138701529127),\n",
       " (('vin', 'thriller'), 0.062701968845634018)]"
      ]
     },
     "execution_count": 24,
     "metadata": {},
     "output_type": "execute_result"
    }
   ],
   "source": [
    "get_neighbors(C_PMI_6_df, \"vin\", 10)"
   ]
  },
  {
   "cell_type": "markdown",
   "metadata": {},
   "source": [
    "## Section 1.4.2\n",
    "\n",
    "Let us start with the **nouns:**\n",
    "\n",
    "- Computer\n",
    "    - with a window of 1, we see only other nounds realted to Computers\n",
    "    - with a window of 6, we see the verb \"using\"\n",
    "    - with a window of 6, we see the adjective \"digital\"\n",
    "\n",
    "- Car\n",
    "    - all neighbors where nouns, regardless of window size\n",
    "\n",
    "- Cake\n",
    "    - with a window of 1, we see the verb \"drink\"\n",
    "    - with a window of 6, we see the verb \"sweet\"\n",
    "\n",
    "**Verbs:**\n",
    "\n",
    "- Playing\n",
    "    - A mix of nouns such as played, player, plays\n",
    "    - Also verbs that are \"tightly\" related to playing something - such as performing, touring (music perhaps)\n",
    "    - With a wider window of 6, we see the occurence of more nouns than verbs.\n",
    "\n",
    "- Installing\n",
    "    - Fascinating - with a window size of 1, we see lots of verbs\n",
    "    - With a window size of 6, we see the occurence if lots of nouns related to technology. Ubuntu, Windows, OS etc.\n",
    "\n",
    "- Commiting\n",
    "    - Verb heavy neighbors with $w=1$\n",
    "    - Start to see nounds that can also be viewed as verbs\n",
    "        - i.e. rape\n",
    "\n",
    "**Adverbs:**\n",
    "\n",
    "- Quickly\n",
    "    - Saw lots of other adverbs with a window size of 1.\n",
    "    - With a window size of 6, you see lots of \"filler\" words.\n",
    "\n",
    "**Adjective:**\n",
    "\n",
    "- Red\n",
    "    - Regardless of window size, we get almost identical neighbors. These neighbors are almost all adjectives too.\n",
    "    \n",
    "**Preposition:**\n",
    "\n",
    "- From\n",
    "    - Leads to the discovery of punctuation, conjunctions, prepositions and adverbs.\n",
    "    \n",
    "## Findings\n",
    "\n",
    "It seems that nounds and verbs \"bleed\" into each other regardless of context window size.\n",
    "\n",
    "Adverbs and adjectives seem to stick to their respective groups on average with prepositions bleeding into other prepositions and conjunctions. This makes sense as prepositions are often used with conjunctions!"
   ]
  },
  {
   "cell_type": "code",
   "execution_count": 44,
   "metadata": {},
   "outputs": [
    {
     "data": {
      "text/plain": [
       "[(('computer', 'software'), 0.19158331225588371),\n",
       " (('computer', 'computers'), 0.17179603552687497),\n",
       " (('computer', 'technology'), 0.15201166482338618),\n",
       " (('computer', 'computing'), 0.15010026047024849),\n",
       " (('computer', 'systems'), 0.14764793002921708),\n",
       " (('computer', 'web'), 0.1436631161968579),\n",
       " (('computer', 'graphics'), 0.14214507140692323),\n",
       " (('computer', 'hardware'), 0.13613487011328002),\n",
       " (('computer', 'pc'), 0.13595725463889355),\n",
       " (('computer', 'system'), 0.12911191083741574)]"
      ]
     },
     "execution_count": 44,
     "metadata": {},
     "output_type": "execute_result"
    }
   ],
   "source": [
    "get_neighbors(C_PMI_1_df, \"computer\", 10)"
   ]
  },
  {
   "cell_type": "code",
   "execution_count": 45,
   "metadata": {},
   "outputs": [
    {
     "data": {
      "text/plain": [
       "[(('computer', 'software'), 0.32197163728708944),\n",
       " (('computer', 'systems'), 0.30590227664087544),\n",
       " (('computer', 'computers'), 0.29903313627361361),\n",
       " (('computer', 'data'), 0.28718083693815427),\n",
       " (('computer', 'technology'), 0.27168716306637192),\n",
       " (('computer', 'using'), 0.26550439493746975),\n",
       " (('computer', 'system'), 0.25649489979168433),\n",
       " (('computer', 'applications'), 0.24971989054335017),\n",
       " (('computer', 'graphics'), 0.24829611103219976),\n",
       " (('computer', 'digital'), 0.24360239663375816)]"
      ]
     },
     "execution_count": 45,
     "metadata": {},
     "output_type": "execute_result"
    }
   ],
   "source": [
    "get_neighbors(C_PMI_6_df, \"computer\", 10)"
   ]
  },
  {
   "cell_type": "code",
   "execution_count": 46,
   "metadata": {},
   "outputs": [
    {
     "data": {
      "text/plain": [
       "[(('car', 'cars'), 0.29346805131261289),\n",
       " (('car', 'automobile'), 0.19360189361664168),\n",
       " (('car', 'vehicle'), 0.18334741784471026),\n",
       " (('car', 'motorcycle'), 0.17661689367713632),\n",
       " (('car', 'truck'), 0.17345288529929315),\n",
       " (('car', 'train'), 0.15226331852308903),\n",
       " (('car', 'aircraft'), 0.15146543849626182),\n",
       " (('car', 'auto'), 0.14879560991632759),\n",
       " (('car', 'vehicles'), 0.14353616004137984),\n",
       " (('car', 'racing'), 0.13647524613206527)]"
      ]
     },
     "execution_count": 46,
     "metadata": {},
     "output_type": "execute_result"
    }
   ],
   "source": [
    "get_neighbors(C_PMI_1_df, \"car\", 10)"
   ]
  },
  {
   "cell_type": "code",
   "execution_count": 47,
   "metadata": {},
   "outputs": [
    {
     "data": {
      "text/plain": [
       "[(('car', 'cars'), 0.3117000348450657),\n",
       " (('car', 'engine'), 0.25712969636754901),\n",
       " (('car', 'racing'), 0.25419464033544598),\n",
       " (('car', 'vehicle'), 0.24061124053133554),\n",
       " (('car', 'motor'), 0.2264079911266457),\n",
       " (('car', 'vehicles'), 0.21750545594792037),\n",
       " (('car', 'and'), 0.21416817308137567),\n",
       " (('car', 'race'), 0.21058779293846855),\n",
       " (('car', 'truck'), 0.20940204769421267),\n",
       " (('car', 'driver'), 0.20460139280657591)]"
      ]
     },
     "execution_count": 47,
     "metadata": {},
     "output_type": "execute_result"
    }
   ],
   "source": [
    "get_neighbors(C_PMI_6_df, \"car\", 10)"
   ]
  },
  {
   "cell_type": "code",
   "execution_count": 48,
   "metadata": {},
   "outputs": [
    {
     "data": {
      "text/plain": [
       "[(('cake', 'pudding'), 0.13441241871343643),\n",
       " (('cake', 'cakes'), 0.11720986379994403),\n",
       " (('cake', 'cursor'), 0.10422620205475525),\n",
       " (('cake', 'noodles'), 0.10234867350422792),\n",
       " (('cake', 'drink'), 0.099043742420225955),\n",
       " (('cake', 'bread'), 0.095911815571679618),\n",
       " (('cake', 'butter'), 0.095588215022358966),\n",
       " (('cake', 'dough'), 0.095321005282960586),\n",
       " (('cake', 'monobook'), 0.089091168691263933),\n",
       " (('cake', 'liquor'), 0.088120426760467538)]"
      ]
     },
     "execution_count": 48,
     "metadata": {},
     "output_type": "execute_result"
    }
   ],
   "source": [
    "get_neighbors(C_PMI_1_df, \"cake\", 10)"
   ]
  },
  {
   "cell_type": "code",
   "execution_count": 49,
   "metadata": {},
   "outputs": [
    {
     "data": {
      "text/plain": [
       "[(('cake', 'beans'), 0.16339792443812576),\n",
       " (('cake', 'bread'), 0.15777617816472483),\n",
       " (('cake', 'ingredients'), 0.15122275492494411),\n",
       " (('cake', 'dough'), 0.14825929207227784),\n",
       " (('cake', 'flour'), 0.14796607083621768),\n",
       " (('cake', 'chocolate'), 0.1396134471081158),\n",
       " (('cake', 'potato'), 0.13577169738648456),\n",
       " (('cake', 'passover'), 0.13574150531213308),\n",
       " (('cake', 'meal'), 0.13465885449995346),\n",
       " (('cake', 'sweet'), 0.13225260631094146)]"
      ]
     },
     "execution_count": 49,
     "metadata": {},
     "output_type": "execute_result"
    }
   ],
   "source": [
    "get_neighbors(C_PMI_6_df, \"cake\", 10)"
   ]
  },
  {
   "cell_type": "code",
   "execution_count": 50,
   "metadata": {},
   "outputs": [
    {
     "data": {
      "text/plain": [
       "[(('playing', 'played'), 0.18015275733762862),\n",
       " (('playing', 'player'), 0.16825508823211982),\n",
       " (('playing', 'plays'), 0.15334288735672838),\n",
       " (('playing', 'play'), 0.15166232912244065),\n",
       " (('playing', 'players'), 0.13072366038293978),\n",
       " (('playing', 'solos'), 0.12986114678766059),\n",
       " (('playing', 'soloist'), 0.12729568688787044),\n",
       " (('playing', 'touring'), 0.12633627158725727),\n",
       " (('playing', 'solo'), 0.12103295237878807),\n",
       " (('playing', 'performing'), 0.12102194058352689)]"
      ]
     },
     "execution_count": 50,
     "metadata": {},
     "output_type": "execute_result"
    }
   ],
   "source": [
    "get_neighbors(C_PMI_1_df, \"playing\", 10)"
   ]
  },
  {
   "cell_type": "code",
   "execution_count": 51,
   "metadata": {},
   "outputs": [
    {
     "data": {
      "text/plain": [
       "[(('playing', 'played'), 0.36360323977951386),\n",
       " (('playing', 'football'), 0.29455953035518168),\n",
       " (('playing', 'league'), 0.286209290346159),\n",
       " (('playing', 'player'), 0.27971356206812126),\n",
       " (('playing', 'club'), 0.27400942146140445),\n",
       " (('playing', 'team'), 0.27338025803330018),\n",
       " (('playing', 'play'), 0.26569940089664784),\n",
       " (('playing', 'plays'), 0.2639107935834154),\n",
       " (('playing', 'season'), 0.25342350839162142),\n",
       " (('playing', ','), 0.24356232415885418)]"
      ]
     },
     "execution_count": 51,
     "metadata": {},
     "output_type": "execute_result"
    }
   ],
   "source": [
    "get_neighbors(C_PMI_6_df, \"playing\", 10)"
   ]
  },
  {
   "cell_type": "code",
   "execution_count": 52,
   "metadata": {},
   "outputs": [
    {
     "data": {
      "text/plain": [
       "[(('installing', 'install'), 0.12803502366225261),\n",
       " (('installing', 're-established'), 0.12421118051562402),\n",
       " (('installing', 'inferred'), 0.12098935170930969),\n",
       " (('installing', 'sealing'), 0.11103121862274419),\n",
       " (('installing', 'supplanted'), 0.1049755109066708),\n",
       " (('installing', 'acknowledging'), 0.10280507165242517),\n",
       " (('installing', 'deploying'), 0.10266450670791467),\n",
       " (('installing', 'drowning'), 0.10045008089696937),\n",
       " (('installing', 'ingredient'), 0.099037834799215713),\n",
       " (('installing', 'evicted'), 0.097874330632830159)]"
      ]
     },
     "execution_count": 52,
     "metadata": {},
     "output_type": "execute_result"
    }
   ],
   "source": [
    "get_neighbors(C_PMI_1_df, \"installing\", 10)"
   ]
  },
  {
   "cell_type": "code",
   "execution_count": 53,
   "metadata": {},
   "outputs": [
    {
     "data": {
      "text/plain": [
       "[(('installing', 'ubuntu'), 0.13582106694677423),\n",
       " (('installing', 'windows'), 0.12733642344768045),\n",
       " (('installing', 'software'), 0.12207626691480512),\n",
       " (('installing', 'linux'), 0.11454197089374171),\n",
       " (('installing', 'files'), 0.11451719168698232),\n",
       " (('installing', 'os'), 0.11362569561133526),\n",
       " (('installing', 'disk'), 0.11153163338572859),\n",
       " (('installing', 'installed'), 0.11043441924336858),\n",
       " (('installing', 'browser'), 0.1092442169778014),\n",
       " (('installing', 'firefox'), 0.10836180310360709)]"
      ]
     },
     "execution_count": 53,
     "metadata": {},
     "output_type": "execute_result"
    }
   ],
   "source": [
    "get_neighbors(C_PMI_6_df, \"installing\", 10)"
   ]
  },
  {
   "cell_type": "code",
   "execution_count": 54,
   "metadata": {},
   "outputs": [
    {
     "data": {
      "text/plain": [
       "[(('committing', 'commit'), 0.25612055249173538),\n",
       " (('committing', 'committed'), 0.18446872436463174),\n",
       " (('committing', 'disbanding'), 0.11716619876641977),\n",
       " (('committing', 'unsolved'), 0.1102553474768015),\n",
       " (('committing', 'allegations'), 0.1092644742278874),\n",
       " (('committing', 'gunshot'), 0.10661774806582129),\n",
       " (('committing', 'atrocities'), 0.099226854951538407),\n",
       " (('committing', 'attempting'), 0.095754786180428333),\n",
       " (('committing', 'dragging'), 0.095104370987268566),\n",
       " (('committing', 'destroying'), 0.094091619833352486)]"
      ]
     },
     "execution_count": 54,
     "metadata": {},
     "output_type": "execute_result"
    }
   ],
   "source": [
    "get_neighbors(C_PMI_1_df, \"committing\", 10)"
   ]
  },
  {
   "cell_type": "code",
   "execution_count": 55,
   "metadata": {},
   "outputs": [
    {
     "data": {
      "text/plain": [
       "[(('committing', 'suicide'), 0.15851696020497846),\n",
       " (('committing', 'crimes'), 0.15033436379872372),\n",
       " (('committing', 'committed'), 0.14801791074934137),\n",
       " (('committing', 'murder'), 0.13811847151011264),\n",
       " (('committing', 'commit'), 0.13300442837964579),\n",
       " (('committing', 'criminal'), 0.12808920941499655),\n",
       " (('committing', 'convicted'), 0.12791735374217741),\n",
       " (('committing', 'rape'), 0.12674766138070678),\n",
       " (('committing', 'murders'), 0.1232316767486277),\n",
       " (('committing', 'guilty'), 0.12132898265865572)]"
      ]
     },
     "execution_count": 55,
     "metadata": {},
     "output_type": "execute_result"
    }
   ],
   "source": [
    "get_neighbors(C_PMI_6_df, \"committing\", 10)"
   ]
  },
  {
   "cell_type": "code",
   "execution_count": 56,
   "metadata": {},
   "outputs": [
    {
     "data": {
      "text/plain": [
       "[(('quickly', 'soon'), 0.26063199526275271),\n",
       " (('quickly', 'eventually'), 0.23449414809413593),\n",
       " (('quickly', 'rapidly'), 0.21655586258603107),\n",
       " (('quickly', 'slowly'), 0.21066917671069785),\n",
       " (('quickly', 'finally'), 0.19753536578687289),\n",
       " (('quickly', 'then'), 0.18900913647056122),\n",
       " (('quickly', 'he'), 0.18716815708164694),\n",
       " (('quickly', 'gradually'), 0.18505462524237745),\n",
       " (('quickly', 'immediately'), 0.18083694280746793),\n",
       " (('quickly', 'never'), 0.17843033686535592)]"
      ]
     },
     "execution_count": 56,
     "metadata": {},
     "output_type": "execute_result"
    }
   ],
   "source": [
    "get_neighbors(C_PMI_1_df, \"quickly\", 10)"
   ]
  },
  {
   "cell_type": "code",
   "execution_count": 57,
   "metadata": {},
   "outputs": [
    {
     "data": {
      "text/plain": [
       "[(('quickly', 'to'), 0.21927921994418584),\n",
       " (('quickly', 'when'), 0.21454110573867108),\n",
       " (('quickly', 'they'), 0.21420206807607356),\n",
       " (('quickly', 'and'), 0.21295425575565086),\n",
       " (('quickly', 'but'), 0.21017895081812732),\n",
       " (('quickly', 'him'), 0.20126942345122545),\n",
       " (('quickly', 'them'), 0.19559160368578185),\n",
       " (('quickly', 'their'), 0.19171498641393017),\n",
       " (('quickly', 'into'), 0.19042339385351872),\n",
       " (('quickly', 'that'), 0.18709236295883847)]"
      ]
     },
     "execution_count": 57,
     "metadata": {},
     "output_type": "execute_result"
    }
   ],
   "source": [
    "get_neighbors(C_PMI_6_df, \"quickly\", 10)"
   ]
  },
  {
   "cell_type": "code",
   "execution_count": 58,
   "metadata": {},
   "outputs": [
    {
     "data": {
      "text/plain": [
       "[(('red', 'white'), 0.29902524375556455),\n",
       " (('red', 'blue'), 0.2916533909078986),\n",
       " (('red', 'yellow'), 0.27379485563699241),\n",
       " (('red', 'black'), 0.26934497710372202),\n",
       " (('red', 'green'), 0.23034213756047714),\n",
       " (('red', 'pink'), 0.16601980060916902),\n",
       " (('red', 'orange'), 0.15808097135051663),\n",
       " (('red', 'dark'), 0.15771341409325457),\n",
       " (('red', 'golden'), 0.15582216624434639),\n",
       " (('red', 'grey'), 0.15505333559981449)]"
      ]
     },
     "execution_count": 58,
     "metadata": {},
     "output_type": "execute_result"
    }
   ],
   "source": [
    "get_neighbors(C_PMI_1_df, \"red\", 10)"
   ]
  },
  {
   "cell_type": "code",
   "execution_count": 59,
   "metadata": {},
   "outputs": [
    {
     "data": {
      "text/plain": [
       "[(('red', 'white'), 0.33210632385197181),\n",
       " (('red', 'blue'), 0.31071934277419122),\n",
       " (('red', 'black'), 0.30175053344775254),\n",
       " (('red', 'yellow'), 0.30097809385710156),\n",
       " (('red', 'green'), 0.27703635003178123),\n",
       " (('red', 'with'), 0.27102865568468137),\n",
       " (('red', 'and'), 0.26388894507640037),\n",
       " (('red', 'dark'), 0.24287044992883897),\n",
       " (('red', 'a'), 0.22840034956484101),\n",
       " (('red', ','), 0.22291839453985871)]"
      ]
     },
     "execution_count": 59,
     "metadata": {},
     "output_type": "execute_result"
    }
   ],
   "source": [
    "get_neighbors(C_PMI_6_df, \"red\", 10)"
   ]
  },
  {
   "cell_type": "code",
   "execution_count": 60,
   "metadata": {},
   "outputs": [
    {
     "data": {
      "text/plain": [
       "[(('from', ','), 0.4401781340202699),\n",
       " (('from', 'in'), 0.42048719227383763),\n",
       " (('from', 'and'), 0.41888347859706065),\n",
       " (('from', '('), 0.3512898862885388),\n",
       " (('from', '.'), 0.33602933977905519),\n",
       " (('from', 'of'), 0.32837310690411015),\n",
       " (('from', 'at'), 0.32439646840001463),\n",
       " (('from', ')'), 0.3170267670069315),\n",
       " (('from', ';'), 0.29742656213306612),\n",
       " (('from', 'by'), 0.29348719721077232)]"
      ]
     },
     "execution_count": 60,
     "metadata": {},
     "output_type": "execute_result"
    }
   ],
   "source": [
    "get_neighbors(C_PMI_1_df, \"from\", 10)"
   ]
  },
  {
   "cell_type": "code",
   "execution_count": 61,
   "metadata": {},
   "outputs": [
    {
     "data": {
      "text/plain": [
       "[(('from', 'and'), 0.36752411913565086),\n",
       " (('from', 'in'), 0.35767833711225488),\n",
       " (('from', 'between'), 0.34188409013479193),\n",
       " (('from', ','), 0.34123214702877508),\n",
       " (('from', 'into'), 0.32497614179548079),\n",
       " (('from', 'where'), 0.3174623725255224),\n",
       " (('from', 'until'), 0.31480319389806943),\n",
       " (('from', 'the'), 0.31441311757921031),\n",
       " (('from', ';'), 0.31344775195805463),\n",
       " (('from', 'after'), 0.31164409055488562)]"
      ]
     },
     "execution_count": 61,
     "metadata": {},
     "output_type": "execute_result"
    }
   ],
   "source": [
    "get_neighbors(C_PMI_6_df, \"from\", 10)"
   ]
  },
  {
   "cell_type": "markdown",
   "metadata": {},
   "source": [
    "# Section 1.4.3\n",
    "\n",
    "With a window size of 1, you see some synonyms (in the case of light), however, when you expand the wiondow size, you find other words, that sometimes represent the antonym for a word i.e. dark (in the case of light).\n",
    "\n",
    "For \"axes\", a small window size leads to the discovery of \"non-technical\" languages, however, a larger window size begins to delve into fields like mathematics (i.e. orthogonal) and even BlackSmithing (Grinder).\n",
    "\n",
    "Bank is an interesting case - regardless of window size, you see related words to financial institutions.\n",
    "\n",
    "As interesting caveat to this is the window size of 6 revealed the word \"river\". This may suggest that in literature, when using the word bank, we are usually referring to an institution rather than a body of water/geography."
   ]
  },
  {
   "cell_type": "code",
   "execution_count": 62,
   "metadata": {},
   "outputs": [
    {
     "data": {
      "text/plain": [
       "[(('light', 'heavy'), 0.15712065639200096),\n",
       " (('light', 'lights'), 0.14670236355917246),\n",
       " (('light', 'or'), 0.12911897073760506),\n",
       " (('light', 'bright'), 0.12681327381436061),\n",
       " (('light', 'radiation'), 0.11845679156278663),\n",
       " (('light', 'dark'), 0.11741780111191008),\n",
       " (('light', 'pale'), 0.11661646218075611),\n",
       " (('light', 'and'), 0.11502720797940848),\n",
       " (('light', 'fire'), 0.11141480683611131),\n",
       " (('light', 'water'), 0.10777138734886027)]"
      ]
     },
     "execution_count": 62,
     "metadata": {},
     "output_type": "execute_result"
    }
   ],
   "source": [
    "get_neighbors(C_PMI_1_df, \"light\", 10)"
   ]
  },
  {
   "cell_type": "code",
   "execution_count": 63,
   "metadata": {},
   "outputs": [
    {
     "data": {
      "text/plain": [
       "[(('light', 'with'), 0.25382115330912913),\n",
       " (('light', 'and'), 0.25076588817937678),\n",
       " (('light', 'are'), 0.23334689919129759),\n",
       " (('light', 'or'), 0.23277530627107534),\n",
       " (('light', 'can'), 0.23225890964804377),\n",
       " (('light', 'using'), 0.22607359885552056),\n",
       " (('light', 'which'), 0.22166241599480938),\n",
       " (('light', 'used'), 0.22091591799267077),\n",
       " (('light', 'surface'), 0.21795530726119669),\n",
       " (('light', 'dark'), 0.2159683451874887)]"
      ]
     },
     "execution_count": 63,
     "metadata": {},
     "output_type": "execute_result"
    }
   ],
   "source": [
    "get_neighbors(C_PMI_6_df, \"light\", 10)"
   ]
  },
  {
   "cell_type": "code",
   "execution_count": 64,
   "metadata": {},
   "outputs": [
    {
     "data": {
      "text/plain": [
       "[(('axes', 'facets'), 0.13126347442003178),\n",
       " (('axes', 'paths'), 0.12999167930213973),\n",
       " (('axes', 'phases'), 0.12168224878337497),\n",
       " (('axes', 'tributaries'), 0.11833454715193988),\n",
       " (('axes', 'concurrency'), 0.11742377112890173),\n",
       " (('axes', 'atypical'), 0.11134954099952876),\n",
       " (('axes', 'engravings'), 0.1100985137723231),\n",
       " (('axes', 'b-sides'), 0.10690469344577602),\n",
       " (('axes', 'antagonists'), 0.10141611526011238),\n",
       " (('axes', 'strands'), 0.10098877308859093)]"
      ]
     },
     "execution_count": 64,
     "metadata": {},
     "output_type": "execute_result"
    }
   ],
   "source": [
    "get_neighbors(C_PMI_1_df, \"axes\", 10)"
   ]
  },
  {
   "cell_type": "code",
   "execution_count": 65,
   "metadata": {},
   "outputs": [
    {
     "data": {
      "text/plain": [
       "[(('axes', 'grind'), 0.12378522612758316),\n",
       " (('axes', 'angles'), 0.11062917507249988),\n",
       " (('axes', 'vectors'), 0.10991373109628774),\n",
       " (('axes', 'axe'), 0.10070455337668442),\n",
       " (('axes', 'flint'), 0.098938538192759912),\n",
       " (('axes', 'orthogonal'), 0.096687578391402143),\n",
       " (('axes', 'intersect'), 0.095940096239885891),\n",
       " (('axes', 'coordinate'), 0.094191019069364376),\n",
       " (('axes', 'directions'), 0.094113020971773056),\n",
       " (('axes', 'parallel'), 0.09388848108175106)]"
      ]
     },
     "execution_count": 65,
     "metadata": {},
     "output_type": "execute_result"
    }
   ],
   "source": [
    "get_neighbors(C_PMI_6_df, \"axes\", 10)"
   ]
  },
  {
   "cell_type": "code",
   "execution_count": 66,
   "metadata": {},
   "outputs": [
    {
     "data": {
      "text/plain": [
       "[(('bank', 'banks'), 0.17390338957881754),\n",
       " (('bank', 'insurance'), 0.11673903325212352),\n",
       " (('bank', 'company'), 0.11326556861514793),\n",
       " (('bank', 'banking'), 0.10857180585455732),\n",
       " (('bank', 'corporation'), 0.10035122699776007),\n",
       " (('bank', 'government'), 0.095022918425753833),\n",
       " (('bank', 'the'), 0.094796028461920978),\n",
       " (('bank', 'railway'), 0.092711975646443123),\n",
       " (('bank', 'and'), 0.092438577645217124),\n",
       " (('bank', 'companies'), 0.092175975075866931)]"
      ]
     },
     "execution_count": 66,
     "metadata": {},
     "output_type": "execute_result"
    }
   ],
   "source": [
    "get_neighbors(C_PMI_1_df, \"bank\", 10)"
   ]
  },
  {
   "cell_type": "code",
   "execution_count": 67,
   "metadata": {},
   "outputs": [
    {
     "data": {
      "text/plain": [
       "[(('bank', 'banks'), 0.21776980303341956),\n",
       " (('bank', 'company'), 0.20627550059291666),\n",
       " (('bank', 'banking'), 0.19944949228358338),\n",
       " (('bank', 'river'), 0.19526166575175796),\n",
       " (('bank', 'corporation'), 0.19462467118186419),\n",
       " (('bank', 'west'), 0.18815889759109089),\n",
       " (('bank', 'investment'), 0.18770044741597272),\n",
       " (('bank', ','), 0.18750190572482214),\n",
       " (('bank', 'and'), 0.18466153301403773),\n",
       " (('bank', 'located'), 0.18343505881497782)]"
      ]
     },
     "execution_count": 67,
     "metadata": {},
     "output_type": "execute_result"
    }
   ],
   "source": [
    "get_neighbors(C_PMI_6_df, \"bank\", 10)"
   ]
  },
  {
   "cell_type": "markdown",
   "metadata": {},
   "source": [
    "# Dimensionality Reducation"
   ]
  },
  {
   "cell_type": "code",
   "execution_count": 11,
   "metadata": {},
   "outputs": [],
   "source": [
    "dict_mtx_dim = gen_V_dict(gen_VC_dict(\"vocab-3k.txt\"), \"vocab-25k+wordsim.txt\")"
   ]
  },
  {
   "cell_type": "code",
   "execution_count": 12,
   "metadata": {},
   "outputs": [
    {
     "name": "stdout",
     "output_type": "stream",
     "text": [
      "0 lines completed so far!\n",
      "100000 lines completed so far!\n",
      "200000 lines completed so far!\n",
      "300000 lines completed so far!\n",
      "400000 lines completed so far!\n",
      "500000 lines completed so far!\n",
      "600000 lines completed so far!\n",
      "700000 lines completed so far!\n",
      "800000 lines completed so far!\n",
      "900000 lines completed so far!\n"
     ]
    }
   ],
   "source": [
    "wc_mtx_dim_3 = pd.DataFrame(gen_word_context(dict_mtx_dim, 3)).T\n",
    "\n",
    "ind = wc_mtx_dim_3.index\n",
    "col_names = wc_mtx_dim_3.columns\n",
    "\n",
    "C_PMI_dim = gen_PMI(wc_mtx_dim_3.values)\n",
    "C_PMI_dim_df = pd.DataFrame(C_PMI_dim, index=ind, columns=col_names)"
   ]
  },
  {
   "cell_type": "markdown",
   "metadata": {},
   "source": [
    "### Baseline with just word counts"
   ]
  },
  {
   "cell_type": "code",
   "execution_count": 38,
   "metadata": {},
   "outputs": [
    {
     "data": {
      "text/plain": [
       "0.23223229343659896"
      ]
     },
     "execution_count": 38,
     "metadata": {},
     "output_type": "execute_result"
    }
   ],
   "source": [
    "calculate_spearmen(wc_mtx_dim_3, men_dict)"
   ]
  },
  {
   "cell_type": "code",
   "execution_count": 39,
   "metadata": {},
   "outputs": [
    {
     "data": {
      "text/plain": [
       "0.064130284534525794"
      ]
     },
     "execution_count": 39,
     "metadata": {},
     "output_type": "execute_result"
    }
   ],
   "source": [
    "calculate_spearmen(wc_mtx_dim_3, simlex_999_dict)"
   ]
  },
  {
   "cell_type": "markdown",
   "metadata": {},
   "source": [
    "### Baseline with just PMI\n",
    "\n",
    "We see improvements from just using word count - this is to be expected!"
   ]
  },
  {
   "cell_type": "code",
   "execution_count": 40,
   "metadata": {},
   "outputs": [
    {
     "data": {
      "text/plain": [
       "0.41665330786724125"
      ]
     },
     "execution_count": 40,
     "metadata": {},
     "output_type": "execute_result"
    }
   ],
   "source": [
    "calculate_spearmen(C_PMI_dim_df, men_dict)"
   ]
  },
  {
   "cell_type": "code",
   "execution_count": 41,
   "metadata": {},
   "outputs": [
    {
     "data": {
      "text/plain": [
       "0.16698551501216272"
      ]
     },
     "execution_count": 41,
     "metadata": {},
     "output_type": "execute_result"
    }
   ],
   "source": [
    "calculate_spearmen(C_PMI_dim_df, simlex_999_dict)"
   ]
  },
  {
   "cell_type": "code",
   "execution_count": 32,
   "metadata": {},
   "outputs": [],
   "source": [
    "sparse_PMI = csr_matrix(C_PMI_dim)\n",
    "ind = list(ind)\n",
    "k_10_svd = TruncatedSVD(n_components=10).fit_transform(sparse_PMI)\n",
    "k_50_svd = TruncatedSVD(n_components=50).fit_transform(sparse_PMI)\n",
    "k_100_svd = TruncatedSVD(n_components=100).fit_transform(sparse_PMI)\n",
    "k_500_svd = TruncatedSVD(n_components=500).fit_transform(sparse_PMI)\n",
    "k_1000_svd = TruncatedSVD(n_components=1000).fit_transform(sparse_PMI)"
   ]
  },
  {
   "cell_type": "code",
   "execution_count": 36,
   "metadata": {},
   "outputs": [],
   "source": [
    "def spearmenr_dim(svd_mtx, human_dict, index_mapping):\n",
    "    \"\"\"\n",
    "    Given a truncated SVD matrix, a dictionary containing pairs of words as keys\n",
    "    and their associated human annotated similarity scores as values, and an index mapping\n",
    "    of words to row values from the original vocabulary - this function will calculate the spearmen\n",
    "    correlation coefficient between the cosine similarity of word pairs in the SVD matrix and their human\n",
    "    annotated counterparts.\n",
    "    \"\"\"\n",
    "    svd_cosine_sim = {}\n",
    "    svd_sim_list = []\n",
    "    human_sim_list = []\n",
    "    \n",
    "    for pair in human_dict:\n",
    "        first, second = pair\n",
    "        if first in index_mapping and second in index_mapping:\n",
    "            first_index = index_mapping.index(first)\n",
    "            second_index = index_mapping.index(second)\n",
    "            vec_1 = csr_matrix(svd_mtx[first_index, :].reshape(1,-1)) #sparse array\n",
    "            vec_2 = csr_matrix(svd_mtx[second_index, :].reshape(1,-1)) #sparse array\n",
    "            svd_cosine_sim[pair] = cosine_similarity(vec_1, vec_2)[0][0]\n",
    "        else:\n",
    "            svd_cosine_sim[pair] = 0.0\n",
    "    \n",
    "    for pair in human_dict:\n",
    "        svd_sim_list.append(svd_cosine_sim[pair])\n",
    "        human_sim_list.append(human_dict[pair])\n",
    "    \n",
    "    \n",
    "    return spearmanr(svd_sim_list, human_sim_list, axis=None).correlation"
   ]
  },
  {
   "cell_type": "code",
   "execution_count": 37,
   "metadata": {},
   "outputs": [
    {
     "data": {
      "text/html": [
       "<div>\n",
       "<style scoped>\n",
       "    .dataframe tbody tr th:only-of-type {\n",
       "        vertical-align: middle;\n",
       "    }\n",
       "\n",
       "    .dataframe tbody tr th {\n",
       "        vertical-align: top;\n",
       "    }\n",
       "\n",
       "    .dataframe thead th {\n",
       "        text-align: right;\n",
       "    }\n",
       "</style>\n",
       "<table border=\"1\" class=\"dataframe\">\n",
       "  <thead>\n",
       "    <tr style=\"text-align: right;\">\n",
       "      <th></th>\n",
       "      <th>MEN-DataSet</th>\n",
       "      <th>SimLex-999</th>\n",
       "    </tr>\n",
       "  </thead>\n",
       "  <tbody>\n",
       "    <tr>\n",
       "      <th>10</th>\n",
       "      <td>0.367336</td>\n",
       "      <td>0.169385</td>\n",
       "    </tr>\n",
       "    <tr>\n",
       "      <th>50</th>\n",
       "      <td>0.484964</td>\n",
       "      <td>0.215532</td>\n",
       "    </tr>\n",
       "    <tr>\n",
       "      <th>100</th>\n",
       "      <td>0.496165</td>\n",
       "      <td>0.221497</td>\n",
       "    </tr>\n",
       "    <tr>\n",
       "      <th>500</th>\n",
       "      <td>0.450595</td>\n",
       "      <td>0.190780</td>\n",
       "    </tr>\n",
       "    <tr>\n",
       "      <th>1000</th>\n",
       "      <td>0.428874</td>\n",
       "      <td>0.180366</td>\n",
       "    </tr>\n",
       "  </tbody>\n",
       "</table>\n",
       "</div>"
      ],
      "text/plain": [
       "      MEN-DataSet  SimLex-999\n",
       "10       0.367336    0.169385\n",
       "50       0.484964    0.215532\n",
       "100      0.496165    0.221497\n",
       "500      0.450595    0.190780\n",
       "1000     0.428874    0.180366"
      ]
     },
     "execution_count": 37,
     "metadata": {},
     "output_type": "execute_result"
    }
   ],
   "source": [
    "results = [(spearmenr_dim(k_10_svd, men_dict, ind), spearmenr_dim(k_10_svd, simlex_999_dict, ind)),\n",
    "          (spearmenr_dim(k_50_svd, men_dict, ind), spearmenr_dim(k_50_svd, simlex_999_dict, ind)),\n",
    "          (spearmenr_dim(k_100_svd, men_dict, ind), spearmenr_dim(k_100_svd, simlex_999_dict, ind)),\n",
    "          (spearmenr_dim(k_500_svd, men_dict, ind), spearmenr_dim(k_500_svd, simlex_999_dict, ind)),\n",
    "          (spearmenr_dim(k_1000_svd, men_dict, ind), spearmenr_dim(k_1000_svd, simlex_999_dict, ind))]\n",
    "index = [10,50,100,500,1000]\n",
    "columns = [\"MEN-DataSet\", \"SimLex-999\"]\n",
    "pd.DataFrame(results, index=index, columns=columns)"
   ]
  },
  {
   "cell_type": "markdown",
   "metadata": {},
   "source": [
    "We see that for dimensions of $k > 10$, we see higher similarity scores for both datasets! The peak of these scores is reached at $k=100$\n",
    "\n",
    "As stated in section 16.1.2 of SLP: SVD performs better at tasks of word similarity than raw PPMI."
   ]
  },
  {
   "cell_type": "code",
   "execution_count": null,
   "metadata": {},
   "outputs": [],
   "source": []
  }
 ],
 "metadata": {
  "kernelspec": {
   "display_name": "Python 3",
   "language": "python",
   "name": "python3"
  },
  "language_info": {
   "codemirror_mode": {
    "name": "ipython",
    "version": 3
   },
   "file_extension": ".py",
   "mimetype": "text/x-python",
   "name": "python",
   "nbconvert_exporter": "python",
   "pygments_lexer": "ipython3",
   "version": "3.6.4"
  }
 },
 "nbformat": 4,
 "nbformat_minor": 2
}
